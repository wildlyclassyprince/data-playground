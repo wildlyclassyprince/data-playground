{
 "cells": [
  {
   "cell_type": "markdown",
   "metadata": {},
   "source": [
    "# Retrieving Tweets\n",
    "\n",
    "The purpose of this notebook is to prototype and test code for retrieving tweets."
   ]
  },
  {
   "cell_type": "code",
   "execution_count": 1,
   "metadata": {},
   "outputs": [],
   "source": [
    "# Imports\n",
    "import logging\n",
    "import json\n",
    "import tweepy\n",
    "import random\n",
    "import time\n",
    "\n",
    "from pprint import pprint\n",
    "from pymongo import MongoClient\n",
    "\n",
    "# Settings\n",
    "logging.basicConfig(format='%(asctime)s : %(levelname)s : %(message)s', level=logging.INFO)"
   ]
  },
  {
   "cell_type": "code",
   "execution_count": 2,
   "metadata": {},
   "outputs": [
    {
     "name": "stdout",
     "output_type": "stream",
     "text": [
      "wildlyclassyprince\n"
     ]
    }
   ],
   "source": [
    "# Authentication\n",
    "with open('credentials.json') as creds:\n",
    "    credentials = json.load(creds)\n",
    "\n",
    "consumer_key = credentials['consumer_key']\n",
    "consumer_secret = credentials['consumer_secret']\n",
    "access_token = credentials['access_token']\n",
    "access_token_secret = credentials['access_token_secret']\n",
    "\n",
    "auth = tweepy.OAuthHandler(consumer_key=consumer_key, consumer_secret=consumer_secret)\n",
    "auth.set_access_token(access_token, access_token_secret)\n",
    "api = tweepy.API(auth)\n",
    "\n",
    "# User info\n",
    "user = api.me()\n",
    "print(user.name)"
   ]
  },
  {
   "cell_type": "code",
   "execution_count": 3,
   "metadata": {},
   "outputs": [],
   "source": [
    "# Instantiate DB client connection\n",
    "client = MongoClient()\n",
    "\n",
    "# Create DB object\n",
    "db = client.TweetDetails"
   ]
  },
  {
   "cell_type": "code",
   "execution_count": 4,
   "metadata": {},
   "outputs": [],
   "source": [
    "# Random number generator\n",
    "def id_gen():\n",
    "    '''Generates random ID number.'''\n",
    "    start, end = 10 ** 4, 10 ** 5\n",
    "    return random.randint(start, end)\n",
    "\n",
    "# Rate limiter\n",
    "def limit_handler(cursor):\n",
    "    '''Limit the number of results returned.'''\n",
    "    while True:\n",
    "        try:\n",
    "            yield cursor.next()\n",
    "        except tweepy.RateLimitError:\n",
    "            # Wait 15 minutes before continuing ...\n",
    "            print('Waiting for 15 minutes ...')\n",
    "            time.sleep(15 * 60)\n",
    "            print('Continuing ...')\n",
    "        except StopIteration:\n",
    "            break\n",
    "\n",
    "# Query and insertion function\n",
    "def search_retrieve_insert(query):\n",
    "    '''Inserts data into the database.'''\n",
    "    try:\n",
    "        # Get the data but pause when limit is reached ...\n",
    "        # Remove .items(number) to return all possible query results\n",
    "        for tweet in limit_handler(tweepy.Cursor(api.search, query).items()):\n",
    "            # Insert data\n",
    "            db.TweetDetails.insert_one({\n",
    "                'id': id_gen(),\n",
    "                'query': query,\n",
    "                'text': tweet.text,\n",
    "                'created_at': tweet.created_at,\n",
    "                'full_name' : tweet.author.name,\n",
    "                'screen_name': tweet.author.screen_name,\n",
    "                'location': tweet.author.location,\n",
    "                'description': tweet.author.description,\n",
    "                'source': tweet.source,\n",
    "                'statuses_count': tweet.user.statuses_count,\n",
    "                'retweet_count': tweet.retweet_count,\n",
    "                'favorited': tweet.favorited\n",
    "            })\n",
    "    except Exception as e:\n",
    "        print(str(e))\n",
    "        \n",
    "# Reading records\n",
    "def read():\n",
    "    '''Reads data from the database.'''\n",
    "    try:\n",
    "        tweets = db.TweetDetails.find()\n",
    "        for tweet in tweets:\n",
    "            pprint(tweet)\n",
    "    except Exception as e:\n",
    "        print(str(e))"
   ]
  },
  {
   "cell_type": "code",
   "execution_count": null,
   "metadata": {},
   "outputs": [],
   "source": [
    "# Insertion\n",
    "search_retrieve_insert(query='Zimbabwe')"
   ]
  },
  {
   "cell_type": "code",
   "execution_count": null,
   "metadata": {},
   "outputs": [],
   "source": [
    "# Reading\n",
    "read()"
   ]
  }
 ],
 "metadata": {
  "kernelspec": {
   "display_name": "Python 3",
   "language": "python",
   "name": "python3"
  },
  "language_info": {
   "codemirror_mode": {
    "name": "ipython",
    "version": 3
   },
   "file_extension": ".py",
   "mimetype": "text/x-python",
   "name": "python",
   "nbconvert_exporter": "python",
   "pygments_lexer": "ipython3",
   "version": "3.7.0"
  }
 },
 "nbformat": 4,
 "nbformat_minor": 2
}
