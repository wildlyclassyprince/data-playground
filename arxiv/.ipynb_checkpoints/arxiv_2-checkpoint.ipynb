{
 "cells": [
  {
   "cell_type": "markdown",
   "metadata": {},
   "source": [
    "# arXiv Monthly Submissions & Downloads: Part 2"
   ]
  },
  {
   "cell_type": "code",
   "execution_count": 1,
   "metadata": {},
   "outputs": [],
   "source": [
    "# Imports\n",
    "import time_series as ts\n",
    "import pandas as pd\n",
    "import matplotlib.pyplot as plt\n",
    "import seaborn as sns\n",
    "from warnings import filterwarnings\n",
    "\n",
    "# Settings\n",
    "sns.set(context='notebook', style='whitegrid', palette='deep', rc=None)\n",
    "filterwarnings('ignore')"
   ]
  },
  {
   "cell_type": "code",
   "execution_count": 2,
   "metadata": {},
   "outputs": [
    {
     "data": {
      "text/plain": [
       "'Rows: 295, Columns: 4'"
      ]
     },
     "execution_count": 2,
     "metadata": {},
     "output_type": "execute_result"
    }
   ],
   "source": [
    "# Data\n",
    "df = pd.read_csv('combined_submissions_and_downloads.csv')\n",
    "rows, columns = df.shape\n",
    "f'Rows: {rows}, Columns: {columns}'"
   ]
  },
  {
   "cell_type": "code",
   "execution_count": 3,
   "metadata": {},
   "outputs": [],
   "source": [
    "# Changing month to 'datetime'\n",
    "ts.convert_to_datetime(data=df, column='month')"
   ]
  },
  {
   "cell_type": "code",
   "execution_count": 4,
   "metadata": {},
   "outputs": [],
   "source": [
    "# Time series\n",
    "downloads = ts.create_series(data=df, time_column='month', category_column='downloads')\n",
    "submissions = ts.create_series(data=df, time_column='month', category_column='submissions')"
   ]
  },
  {
   "cell_type": "code",
   "execution_count": null,
   "metadata": {},
   "outputs": [],
   "source": [
    "# Plotting\n",
    "ts.plot_series(data=downloads, title='Downloads', ylabel='Frequency')"
   ]
  },
  {
   "cell_type": "code",
   "execution_count": null,
   "metadata": {},
   "outputs": [],
   "source": [
    "ts.plot_series(data=submissions, title='Submissions', ylabel='Frequency')"
   ]
  },
  {
   "cell_type": "code",
   "execution_count": null,
   "metadata": {},
   "outputs": [],
   "source": [
    "# Correlation\n",
    "f, (ax1, ax2) = plt.subplots(1, 2, figsize=(20, 6))\n",
    "ax1.set_title('Regression'), ax2.set_title('Residuals')\n",
    "sns.regplot(x=submissions, y=downloads, ax=ax1)\n",
    "sns.residplot(x=submissions, y=downloads, ax=ax2)"
   ]
  },
  {
   "cell_type": "code",
   "execution_count": null,
   "metadata": {},
   "outputs": [],
   "source": [
    "# Distribution\n",
    "f, (ax1, ax2) = plt.subplots(1, 2, figsize=(20, 6))\n",
    "ax1.set_title('Distribution'), ax2.set_title('Distribution')\n",
    "sns.distplot(submissions, ax=ax1)\n",
    "sns.distplot(downloads, ax=ax2)"
   ]
  }
 ],
 "metadata": {
  "kernelspec": {
   "display_name": "Python 3",
   "language": "python",
   "name": "python3"
  },
  "language_info": {
   "codemirror_mode": {
    "name": "ipython",
    "version": 3
   },
   "file_extension": ".py",
   "mimetype": "text/x-python",
   "name": "python",
   "nbconvert_exporter": "python",
   "pygments_lexer": "ipython3",
   "version": "3.7.0"
  }
 },
 "nbformat": 4,
 "nbformat_minor": 2
}
