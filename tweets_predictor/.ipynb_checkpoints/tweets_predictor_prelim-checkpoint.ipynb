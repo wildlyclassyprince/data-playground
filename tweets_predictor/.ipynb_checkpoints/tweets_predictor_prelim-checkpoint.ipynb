{
 "cells": [
  {
   "cell_type": "markdown",
   "metadata": {},
   "source": [
    "# Tweets Ratio Prediction\n",
    "\n",
    "This notebook is preliminary analysis of tweets by US politicians. We will build a machine learning pipeline that determines the likely author of a tweet."
   ]
  },
  {
   "cell_type": "code",
   "execution_count": 1,
   "metadata": {},
   "outputs": [],
   "source": [
    "# The suspects ...\n",
    "import random\n",
    "import glob as gb\n",
    "import pandas as pd\n",
    "import dask.dataframe as dd\n",
    "from sklearn.model_selection import train_test_split\n",
    "from sklearn.feature_extraction.text import CountVectorizer\n",
    "from sklearn.feature_extraction.text import TfidfTransformer\n",
    "from sklearn.linear_model import LogisticRegression\n",
    "from sklearn.linear_model import SGDClassifier\n",
    "from sklearn.metrics import accuracy_score"
   ]
  },
  {
   "cell_type": "markdown",
   "metadata": {},
   "source": [
    "### Senators"
   ]
  },
  {
   "cell_type": "code",
   "execution_count": 2,
   "metadata": {},
   "outputs": [
    {
     "name": "stdout",
     "output_type": "stream",
     "text": [
      "CPU times: user 775 ms, sys: 78.2 ms, total: 854 ms\n",
      "Wall time: 855 ms\n"
     ]
    }
   ],
   "source": [
    "# Retrieving the data\n",
    "%time senators = pd.read_csv('senators.csv', encoding='ISO-8859-1', usecols=['text', 'user']).head(10000)\n",
    "assert senators.user.unique().shape[0] > 1"
   ]
  },
  {
   "cell_type": "code",
   "execution_count": 3,
   "metadata": {},
   "outputs": [],
   "source": [
    "# Vectorizing\n",
    "def vectorizer(data):\n",
    "    '''Vectoring.'''\n",
    "    vectorizer = CountVectorizer(analyzer='word', lowercase=False)\n",
    "    features = vectorizer.fit_transform(data)\n",
    "    return features.toarray()\n",
    "\n",
    "features_nd = vectorizer(senators.text)\n",
    "data_labels = senators.user"
   ]
  },
  {
   "cell_type": "code",
   "execution_count": 4,
   "metadata": {},
   "outputs": [],
   "source": [
    "# Train-test split\n",
    "def data_split(X, y):\n",
    "    '''Train-test data split.'''\n",
    "    return train_test_split(X, y, random_state=1234)\n",
    "\n",
    "X_train, X_test, y_train, y_test = data_split(features_nd, data_labels)"
   ]
  },
  {
   "cell_type": "code",
   "execution_count": 5,
   "metadata": {},
   "outputs": [],
   "source": [
    "# Fitting\n",
    "log_model = LogisticRegression().fit(X_train, y_train)"
   ]
  },
  {
   "cell_type": "code",
   "execution_count": 6,
   "metadata": {},
   "outputs": [],
   "source": [
    "# Predicting\n",
    "y_pred = log_model.predict(X_test)"
   ]
  },
  {
   "cell_type": "code",
   "execution_count": 7,
   "metadata": {},
   "outputs": [
    {
     "name": "stdout",
     "output_type": "stream",
     "text": [
      "Who said it:\t\tamyklobuchar\n",
      "What they said:\t\tRT @BrookingsInst: Sen. @ChrisCoons explains how Putin launched an undeclared war on the international order: https://t.co/NE6fduoEz4 httpsäó_\n",
      "\n",
      "Who said it:\t\tamyklobuchar\n",
      "What they said:\t\tHappy Statehood Day, Slovenia! Spoke at @SLOinUSA celebration of 25 years as nation. Gained independence in 1991. https://t.co/h5dM4fSxG5\n",
      "\n",
      "Who said it:\t\tamyklobuchar\n",
      "https://t.co/Gpk2JSMfzt\n",
      "\n",
      "Who said it:\t\tamyklobuchar\n",
      "What they said:\t\tRT @NHC_Atlantic: The flood threat from #Harvey is spreading farther east in Louisiana. Stay vigilant. @NWSNewOrleans @NWSLakeCharles @NWSWäó_\n",
      "\n",
      "Who said it:\t\tamyklobuchar\n",
      "What they said:\t\tReminder of what Congress can do if we put policy before party- Important step for making foreign aid more effective https://t.co/MZgjfIM3iX\n",
      "\n",
      "Who said it:\t\tamyklobuchar\n",
      "What they said:\t\tRT @RefugeesIntl: It's often women who most brutally bear the brunt of conflict, violence, hunger - @ChrisCoons @usip #coonsatusip #SouthSuäó_\n",
      "\n",
      "Who said it:\t\tamyklobuchar\n",
      "What they said:\t\tGot plans? Come volunteer with @BillCassidy. Sign up here http://t.co/6jPGulS4G9 #VoteCassidy #LASEN http://t.co/PXdiAnYWfg\n",
      "\n"
     ]
    }
   ],
   "source": [
    "# Testing\n",
    "def test_prediction(data):\n",
    "    '''Testing predictions.'''\n",
    "    value = random.randint(0, len(X_test)-7)\n",
    "    for i in range(value,value+7):\n",
    "        print('Who said it:\\t\\t{}'.format(y_pred[0]))\n",
    "        ind=features_nd.tolist().index(X_test[i].tolist())\n",
    "        print('What they said:\\t\\t{}\\n'.format(data[ind].strip()))\n",
    "        \n",
    "test_prediction(senators.text)"
   ]
  },
  {
   "cell_type": "code",
   "execution_count": 8,
   "metadata": {},
   "outputs": [
    {
     "name": "stdout",
     "output_type": "stream",
     "text": [
      "Accuracy: 86.16%\n"
     ]
    }
   ],
   "source": [
    "# Accuracy\n",
    "print('Accuracy: {}%'.format(accuracy_score(y_test, y_pred)*100))"
   ]
  },
  {
   "cell_type": "markdown",
   "metadata": {},
   "source": [
    "### Trump & Obama"
   ]
  },
  {
   "cell_type": "code",
   "execution_count": 9,
   "metadata": {},
   "outputs": [
    {
     "name": "stdout",
     "output_type": "stream",
     "text": [
      "CPU times: user 23.2 ms, sys: 2.92 ms, total: 26.2 ms\n",
      "Wall time: 24.9 ms\n"
     ]
    }
   ],
   "source": [
    "# Retrieving the data\n",
    "%time trump_obama = pd.concat([pd.read_csv(file, encoding='ISO-8859-1', usecols=['text', 'user']) for file in ['BarackObama.csv', 'realDonaldTrump.csv']])\n",
    "assert trump_obama.user.unique().shape[0] > 1"
   ]
  },
  {
   "cell_type": "code",
   "execution_count": 10,
   "metadata": {},
   "outputs": [],
   "source": [
    "# Vectorizing\n",
    "features_nd = vectorizer(trump_obama.text)\n",
    "data_labels = trump_obama.user"
   ]
  },
  {
   "cell_type": "code",
   "execution_count": 11,
   "metadata": {},
   "outputs": [],
   "source": [
    "# Train-test split\n",
    "X_train, X_test, y_train, y_test = data_split(features_nd, data_labels)"
   ]
  },
  {
   "cell_type": "code",
   "execution_count": 12,
   "metadata": {},
   "outputs": [],
   "source": [
    "# Fitting\n",
    "log_model = LogisticRegression().fit(X_train, y_train)"
   ]
  },
  {
   "cell_type": "code",
   "execution_count": 13,
   "metadata": {},
   "outputs": [],
   "source": [
    "# Predicting\n",
    "y_pred = log_model.predict(X_test)"
   ]
  },
  {
   "cell_type": "raw",
   "metadata": {},
   "source": [
    "# Testing\n",
    "test_prediction(trump_obama.text)"
   ]
  },
  {
   "cell_type": "code",
   "execution_count": 14,
   "metadata": {},
   "outputs": [
    {
     "name": "stdout",
     "output_type": "stream",
     "text": [
      "Accuracy: 96.09%\n"
     ]
    }
   ],
   "source": [
    "# Accuracy\n",
    "print('Accuracy: {}%'.format(round(accuracy_score(y_test, y_pred)*100, 2)))"
   ]
  },
  {
   "cell_type": "markdown",
   "metadata": {},
   "source": [
    "### All Tweets"
   ]
  },
  {
   "cell_type": "code",
   "execution_count": 15,
   "metadata": {},
   "outputs": [
    {
     "name": "stdout",
     "output_type": "stream",
     "text": [
      "CPU times: user 151 ms, sys: 16.4 ms, total: 168 ms\n",
      "Wall time: 45.2 ms\n"
     ]
    }
   ],
   "source": [
    "# Retrieving the data\n",
    "%time tweets = dd.concat([dd.read_csv(file, encoding='ISO-8859-1', usecols=['text', 'user']) for file in gb.glob('*.csv')])"
   ]
  }
 ],
 "metadata": {
  "kernelspec": {
   "display_name": "Python 3",
   "language": "python",
   "name": "python3"
  },
  "language_info": {
   "codemirror_mode": {
    "name": "ipython",
    "version": 3
   },
   "file_extension": ".py",
   "mimetype": "text/x-python",
   "name": "python",
   "nbconvert_exporter": "python",
   "pygments_lexer": "ipython3",
   "version": "3.6.5"
  }
 },
 "nbformat": 4,
 "nbformat_minor": 2
}
