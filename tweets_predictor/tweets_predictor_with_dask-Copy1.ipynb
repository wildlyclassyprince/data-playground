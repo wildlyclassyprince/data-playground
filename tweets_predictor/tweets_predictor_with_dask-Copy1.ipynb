{
 "cells": [
  {
   "cell_type": "markdown",
   "metadata": {},
   "source": [
    "# Tweets Ratio Prediction\n",
    "\n",
    "This notebook is preliminary analysis of tweets by US politicians. We will build a machine learning pipeline that determines the likely author of a tweet."
   ]
  },
  {
   "cell_type": "code",
   "execution_count": null,
   "metadata": {},
   "outputs": [],
   "source": [
    "# The suspects ...\n",
    "import glob as gb\n",
    "import pandas as pd\n",
    "import dask.dataframe as dd\n",
    "import dask_ml.joblib as joblib\n",
    "import dask_searchcv as dcv\n",
    "from dask.distributed import Client\n",
    "from sklearn.externals.joblib import parallel_backend\n",
    "from sklearn.model_selection import train_test_split\n",
    "from sklearn.model_selection import ParameterGrid\n",
    "from sklearn.model_selection import GridSearchCV\n",
    "from sklearn.feature_extraction.text import CountVectorizer\n",
    "from sklearn.feature_extraction.text import TfidfTransformer\n",
    "from sklearn.linear_model import LogisticRegression\n",
    "from sklearn.linear_model import SGDClassifier\n",
    "from sklearn.metrics import accuracy_score\n",
    "from sklearn.pipeline import Pipeline\n",
    "from warnings import filterwarnings\n",
    "filterwarnings('ignore')"
   ]
  },
  {
   "cell_type": "code",
   "execution_count": null,
   "metadata": {},
   "outputs": [],
   "source": [
    "# Retrieving the data\n",
    "%time tweets = pd.concat([pd.read_csv(file, encoding='ISO-8859-1', usecols=['text', 'user']) for file in gb.glob('*.csv')])"
   ]
  },
  {
   "cell_type": "code",
   "execution_count": null,
   "metadata": {},
   "outputs": [],
   "source": [
    "# Pipeline\n",
    "pipeline = Pipeline([('vect', CountVectorizer()),\n",
    "                     ('tfidf', TfidfTransformer()),\n",
    "                     ('clf', SGDClassifier())])\n",
    "\n",
    "# Parameters\n",
    "parameters = {'vect__max_df': (.5, .75, 1.),\n",
    "              'vect__ngram_range': ((1,1), (1,2)),\n",
    "              'tfidf__use_idf': (True, False),\n",
    "              'clf__alpha': (1e-2, 1e-3, 1e-4,1e-5),\n",
    "              'clf__max_iter': (10, 50, 80),\n",
    "              'clf__penalty': ('l2', 'elasticnet')}"
   ]
  },
  {
   "cell_type": "code",
   "execution_count": null,
   "metadata": {},
   "outputs": [],
   "source": [
    "print('Number of candidates: {}'.format(len(ParameterGrid(parameters))))"
   ]
  },
  {
   "cell_type": "code",
   "execution_count": null,
   "metadata": {},
   "outputs": [],
   "source": [
    "# Using scikit\n",
    "grid_search = GridSearchCV(pipeline, parameters, n_jobs=16)\n",
    "%time grid_search.fit(tweets.text, tweets.user)"
   ]
  },
  {
   "cell_type": "code",
   "execution_count": null,
   "metadata": {},
   "outputs": [],
   "source": [
    "# Using dask\n",
    "client = Client()\n",
    "dgrid_search = dcv.GridSearchCV(pipeline, parameters)\n",
    "%time dgrid_search.fit(tweets.text, tweets.user)"
   ]
  },
  {
   "cell_type": "code",
   "execution_count": null,
   "metadata": {},
   "outputs": [],
   "source": [
    "client = Client()\n",
    "# Instantiating joblib in the backend\n",
    "with parallel_backend('dask'):\n",
    "    # Vectorizing\n",
    "    vectorizer = CountVectorizer(analyzer='word', lowercase=False)\n",
    "    features = vectorizer.fit_transform(tweets.text.head(10000000))\n",
    "    features_nd = features.toarray()\n",
    "    data_labels = tweets.user\n",
    "\n",
    "    # Splitting\n",
    "    X_train, X_test, y_train, y_test = train_test_split(features_nd,\n",
    "                                                        data_labels,\n",
    "                                                        random_state=1234)\n",
    "\n",
    "    # Fitting\n",
    "    log_model = LogisticRegression()\n",
    "    log_model.fit(X_train, y_train)\n",
    "\n",
    "    # Predicting\n",
    "    y_pred = log_model.predict(X_test)"
   ]
  },
  {
   "cell_type": "code",
   "execution_count": null,
   "metadata": {},
   "outputs": [],
   "source": [
    "# Testing\n",
    "import random\n",
    "j = random.randint(0, len(X_test)-7)\n",
    "for i in range(j,j+7):\n",
    "    print('Who said it:\\t\\t{}'.format(y_pred[0]))\n",
    "    ind=features_nd.tolist().index(X_test[i].tolist())\n",
    "    print('What they said:\\t\\t{}\\n'.format(tweets.text[ind].strip()))"
   ]
  },
  {
   "cell_type": "code",
   "execution_count": null,
   "metadata": {},
   "outputs": [],
   "source": [
    "# Accuracy\n",
    "print('Accuracy {}%'.format(accuracy_score(y_test, y_pred)*100))"
   ]
  }
 ],
 "metadata": {
  "kernelspec": {
   "display_name": "Python 3",
   "language": "python",
   "name": "python3"
  },
  "language_info": {
   "codemirror_mode": {
    "name": "ipython",
    "version": 3
   },
   "file_extension": ".py",
   "mimetype": "text/x-python",
   "name": "python",
   "nbconvert_exporter": "python",
   "pygments_lexer": "ipython3",
   "version": "3.6.5"
  }
 },
 "nbformat": 4,
 "nbformat_minor": 2
}
