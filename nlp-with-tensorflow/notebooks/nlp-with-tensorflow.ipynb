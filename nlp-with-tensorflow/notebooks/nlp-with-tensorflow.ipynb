{
  "nbformat": 4,
  "nbformat_minor": 0,
  "metadata": {
    "kernelspec": {
      "display_name": "Python 3",
      "language": "python",
      "name": "python3"
    },
    "language_info": {
      "codemirror_mode": {
        "name": "ipython",
        "version": 3
      },
      "file_extension": ".py",
      "mimetype": "text/x-python",
      "name": "python",
      "nbconvert_exporter": "python",
      "pygments_lexer": "ipython3",
      "version": "3.7.3"
    },
    "colab": {
      "name": "nlp-with-tensorflow.ipynb",
      "version": "0.3.2",
      "provenance": [],
      "include_colab_link": true
    }
  },
  "cells": [
    {
      "cell_type": "markdown",
      "metadata": {
        "id": "view-in-github",
        "colab_type": "text"
      },
      "source": [
        "<a href=\"https://colab.research.google.com/github/wildlyclassyprince/data-playground/blob/master/nlp-with-tensorflow/notebooks/nlp-with-tensorflow.ipynb\" target=\"_parent\"><img src=\"https://colab.research.google.com/assets/colab-badge.svg\" alt=\"Open In Colab\"/></a>"
      ]
    },
    {
      "cell_type": "markdown",
      "metadata": {
        "id": "Ky-k6FUtQuJ4",
        "colab_type": "text"
      },
      "source": [
        "# Natural Language Processing (NLP) with TensorFlow\n",
        "\n",
        "Inspired by work from the Standford University course CS224N, we will explore some of the currently common techniques associated with Natural Language Processing and Deep Learning.\n",
        "\n",
        "In this notebook we will classify Twitter data and build a model that predicts the owner of a tweet.\n",
        "\n",
        "## Table of Contents\n",
        "* **[Getting the data](#getting-the-data)**\n",
        "* **[Preprocessing](#preprocessing)**\n",
        "  * [Concatenate dataframes](#concatenate)\n",
        "  * [Format the text](#format-text)\n",
        "* **[Training and validation data](#training-validation-data)**\n",
        "  * [Create feature set](#feature-set)\n",
        "  * [Create label set](#label-set)\n",
        "  * [Create train and test sets](#train-test-split)\n",
        "  * [Create validation set](#validation-set)\n",
        "* **[Build the model](#build-model)**\n",
        "  * [Loss function and optimizer](#loss-function-and-optimizer)\n",
        "* **[Train the model](#train-model)**\n",
        "* **[Evaluate the model](#evaluate-model)**\n",
        "  * [Plot accuracy and loss over time](#plot-accuracy-and-loss)"
      ]
    },
    {
      "cell_type": "code",
      "metadata": {
        "id": "X2smzu9wQuJ-",
        "colab_type": "code",
        "colab": {}
      },
      "source": [
        "# Header\n",
        "from __future__ import absolute_import\n",
        "from __future__ import division\n",
        "from __future__ import print_function\n",
        "from __future__ import unicode_literals"
      ],
      "execution_count": 0,
      "outputs": []
    },
    {
      "cell_type": "code",
      "metadata": {
        "id": "0cmm7yRxQuKE",
        "colab_type": "code",
        "colab": {}
      },
      "source": [
        "# The usual suspects ...\n",
        "import io\n",
        "import pandas as pd\n",
        "import tensorflow as tf\n",
        "import matplotlib.pyplot as plt\n",
        "import seaborn as sns\n",
        "\n",
        "from google.colab import files\n",
        "from numpy import array\n",
        "from numpy import argmax\n",
        "from nltk.tokenize import wordpunct_tokenize\n",
        "from gensim import corpora\n",
        "from sklearn.model_selection import train_test_split\n",
        "from sklearn.preprocessing import LabelEncoder"
      ],
      "execution_count": 0,
      "outputs": []
    },
    {
      "cell_type": "markdown",
      "metadata": {
        "id": "KMap-XZdQuKH",
        "colab_type": "text"
      },
      "source": [
        "<a id='getting-the-data'></a>\n",
        "### Gettting the data"
      ]
    },
    {
      "cell_type": "code",
      "metadata": {
        "id": "fZENwEtjQuKJ",
        "colab_type": "code",
        "colab": {
          "resources": {
            "http://localhost:8080/nbextensions/google.colab/files.js": {
              "data": "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",
              "ok": true,
              "headers": [
                [
                  "content-type",
                  "application/javascript"
                ]
              ],
              "status": 200,
              "status_text": ""
            }
          },
          "base_uri": "https://localhost:8080/",
          "height": 146
        },
        "outputId": "6f3f3ee5-6976-45f2-c687-1f882c3d99ec"
      },
      "source": [
        "# Upload files\n",
        "uploaded = files.upload()"
      ],
      "execution_count": 6,
      "outputs": [
        {
          "output_type": "display_data",
          "data": {
            "text/html": [
              "\n",
              "     <input type=\"file\" id=\"files-3fc69754-77fd-4a7d-84cf-f2ed63e7f9f1\" name=\"files[]\" multiple disabled />\n",
              "     <output id=\"result-3fc69754-77fd-4a7d-84cf-f2ed63e7f9f1\">\n",
              "      Upload widget is only available when the cell has been executed in the\n",
              "      current browser session. Please rerun this cell to enable.\n",
              "      </output>\n",
              "      <script src=\"/nbextensions/google.colab/files.js\"></script> "
            ],
            "text/plain": [
              "<IPython.core.display.HTML object>"
            ]
          },
          "metadata": {
            "tags": []
          }
        },
        {
          "output_type": "stream",
          "text": [
            "Saving senators.csv to senators.csv\n",
            "Saving realDonaldTrump.csv to realDonaldTrump.csv\n",
            "Saving BarackObama.csv to BarackObama.csv\n"
          ],
          "name": "stdout"
        }
      ]
    },
    {
      "cell_type": "code",
      "metadata": {
        "id": "Ge3mj3EAcqgv",
        "colab_type": "code",
        "colab": {}
      },
      "source": [
        "# Trump\n",
        "trump = pd.read_csv(io.BytesIO(uploaded['realDonaldTrump.csv']), lineterminator='\\n')\n",
        "# Obama\n",
        "obama = pd.read_csv(io.BytesIO(uploaded['BarackObama.csv']), lineterminator='\\n')\n",
        "# Senators\n",
        "senators = pd.read_csv(io.BytesIO(uploaded['senators.csv']), lineterminator='\\n')"
      ],
      "execution_count": 0,
      "outputs": []
    },
    {
      "cell_type": "markdown",
      "metadata": {
        "id": "tQWbhyPAQuKM",
        "colab_type": "text"
      },
      "source": [
        "<a id='preprocessing'></a>\n",
        "### Preprocessing\n",
        "\n",
        "\n",
        "<a id='concatenate'></a>\n",
        "#### Concatenate dataframes"
      ]
    },
    {
      "cell_type": "code",
      "metadata": {
        "id": "--Gw0UGLQuKO",
        "colab_type": "code",
        "colab": {}
      },
      "source": [
        "df = pd.concat([trump, obama, senators])"
      ],
      "execution_count": 0,
      "outputs": []
    },
    {
      "cell_type": "markdown",
      "metadata": {
        "id": "zG39bcecQuKU",
        "colab_type": "text"
      },
      "source": [
        "<a id='format-text'></a>\n",
        "#### Format the text"
      ]
    },
    {
      "cell_type": "code",
      "metadata": {
        "id": "u4o9FXm-QuKW",
        "colab_type": "code",
        "colab": {}
      },
      "source": [
        "# Text corpus\n",
        "def create_document_corpus(df, column):\n",
        "    '''Creates document corpus.'''\n",
        "    return [i for i in df[column]]\n",
        "\n",
        "# Removing common words and tokenize\n",
        "def tokenize(document_corpus):\n",
        "    '''Tokenizes text.'''\n",
        "    return [[word for word in doc.lower().split()] for doc in document_corpus]\n",
        "\n",
        "# Formatting\n",
        "document = create_document_corpus(df, 'text')\n",
        "tokenised_doc = tokenize(document)\n",
        "dictionary = corpora.Dictionary(tokenised_doc)"
      ],
      "execution_count": 0,
      "outputs": []
    },
    {
      "cell_type": "code",
      "metadata": {
        "id": "yCAAhG15QuKa",
        "colab_type": "code",
        "colab": {
          "base_uri": "https://localhost:8080/",
          "height": 35
        },
        "outputId": "a1d08d2c-dce1-4d46-c583-68cf5f2d4d78"
      },
      "source": [
        "print(dictionary)"
      ],
      "execution_count": 14,
      "outputs": [
        {
          "output_type": "stream",
          "text": [
            "Dictionary(458047 unique tokens: ['a', 'and', 'beginning,', 'conversation', 'david']...)\n"
          ],
          "name": "stdout"
        }
      ]
    },
    {
      "cell_type": "markdown",
      "metadata": {
        "id": "8svHUebfQuKl",
        "colab_type": "text"
      },
      "source": [
        "<a id='training-validation-data'></a>\n",
        "### Training & validation data\n",
        "\n",
        "<a id='feature-set'></a>\n",
        "#### Creating feature set"
      ]
    },
    {
      "cell_type": "code",
      "metadata": {
        "id": "5fgKgPbhQuKm",
        "colab_type": "code",
        "colab": {}
      },
      "source": [
        "# Feature\n",
        "data = list(map(lambda item: dictionary.doc2idx(tokenised_doc[item]),\n",
        "                range(len(tokenised_doc))))"
      ],
      "execution_count": 0,
      "outputs": []
    },
    {
      "cell_type": "markdown",
      "metadata": {
        "id": "Ns7G8RuYQuKo",
        "colab_type": "text"
      },
      "source": [
        "<a id='label-set'></a>\n",
        "#### Creating label set"
      ]
    },
    {
      "cell_type": "code",
      "metadata": {
        "id": "zXmfz2oEQuKp",
        "colab_type": "code",
        "colab": {
          "base_uri": "https://localhost:8080/",
          "height": 53
        },
        "outputId": "3223596a-7cb0-412c-ed68-9cba13608e1d"
      },
      "source": [
        "# Labels\n",
        "def encode(dataset):\n",
        "    print(f'Shape before encoding: {len(dataset)}')\n",
        "    encoded = tf.keras.utils.to_categorical(dataset)\n",
        "    print(f'Shape after encoding: {encoded.shape}')\n",
        "    return encoded\n",
        "\n",
        "values = array(df['user'].values)\n",
        "label_encoder = LabelEncoder()\n",
        "integer_encodings = label_encoder.fit_transform(values)\n",
        "labels = encode(integer_encodings)"
      ],
      "execution_count": 16,
      "outputs": [
        {
          "output_type": "stream",
          "text": [
            "Shape before encoding: 295054\n",
            "Shape after encoding: (295054, 102)\n"
          ],
          "name": "stdout"
        }
      ]
    },
    {
      "cell_type": "markdown",
      "metadata": {
        "id": "FLOOGWsrQuKt",
        "colab_type": "text"
      },
      "source": [
        "<a id='train-test-split'></a>\n",
        "#### Create training  and test set"
      ]
    },
    {
      "cell_type": "code",
      "metadata": {
        "id": "dZdj7UarQuKv",
        "colab_type": "code",
        "colab": {
          "base_uri": "https://localhost:8080/",
          "height": 53
        },
        "outputId": "0bca8e22-c079-41fa-b5b3-df4356b54038"
      },
      "source": [
        "# Train-test split\n",
        "x_train, x_test, y_train, y_test = train_test_split(data, labels, test_size=.25, shuffle=True)\n",
        "print(f'X-train: {len(x_train)}, Y-train: {len(y_train)}')\n",
        "print(f'X-test: {len(x_test)}, Y-test: {len(y_test)}')"
      ],
      "execution_count": 17,
      "outputs": [
        {
          "output_type": "stream",
          "text": [
            "X-train: 221290, Y-train: 221290\n",
            "X-test: 73764, Y-test: 73764\n"
          ],
          "name": "stdout"
        }
      ]
    },
    {
      "cell_type": "code",
      "metadata": {
        "id": "PWV3IrwvQuK0",
        "colab_type": "code",
        "colab": {}
      },
      "source": [
        "# Pad the data\n",
        "x_train = tf.keras.preprocessing.sequence.pad_sequences(x_train,\n",
        "                                                        value=0,\n",
        "                                                        padding='post',\n",
        "                                                        maxlen=45)\n",
        "x_test = tf.keras.preprocessing.sequence.pad_sequences(x_test,\n",
        "                                                       value=0,\n",
        "                                                       padding='post',\n",
        "                                                       maxlen=45)"
      ],
      "execution_count": 0,
      "outputs": []
    },
    {
      "cell_type": "markdown",
      "metadata": {
        "id": "tbDCuBMUQuK3",
        "colab_type": "text"
      },
      "source": [
        "<a id='validation-set'></a>\n",
        "#### Create validation set"
      ]
    },
    {
      "cell_type": "code",
      "metadata": {
        "id": "LsDfDBUzQuK4",
        "colab_type": "code",
        "colab": {}
      },
      "source": [
        "# Feature set\n",
        "x_val = x_train[:10000]\n",
        "partial_x_train = x_train[10000:]\n",
        "\n",
        "# Label set \n",
        "y_val = y_train[:10000]\n",
        "partial_y_train = y_train[10000:]"
      ],
      "execution_count": 0,
      "outputs": []
    },
    {
      "cell_type": "markdown",
      "metadata": {
        "id": "Q5mS5WL-QuK7",
        "colab_type": "text"
      },
      "source": [
        "<a id='build-model'></a>\n",
        "### Build the model\n",
        "\n",
        "The model we will build will take input data consisting of an array of word-indices, while the labels to predict are the names of senators."
      ]
    },
    {
      "cell_type": "code",
      "metadata": {
        "id": "It1wVpxXQuK8",
        "colab_type": "code",
        "colab": {
          "base_uri": "https://localhost:8080/",
          "height": 349
        },
        "outputId": "29744b02-3bf1-4a03-c780-173c2f29e936"
      },
      "source": [
        "vocab_size = 458047\n",
        "\n",
        "model = tf.keras.Sequential()\n",
        "model.add(tf.keras.layers.Embedding(vocab_size, 128))\n",
        "model.add(tf.keras.layers.GlobalAveragePooling1D())\n",
        "model.add(tf.keras.layers.Dense(128, activation=tf.nn.relu))\n",
        "model.add(tf.keras.layers.Flatten())\n",
        "model.add(tf.keras.layers.Dense(102, activation=tf.nn.softmax))\n",
        "model.summary()"
      ],
      "execution_count": 21,
      "outputs": [
        {
          "output_type": "stream",
          "text": [
            "Model: \"sequential_1\"\n",
            "_________________________________________________________________\n",
            "Layer (type)                 Output Shape              Param #   \n",
            "=================================================================\n",
            "embedding_1 (Embedding)      (None, None, 128)         58630016  \n",
            "_________________________________________________________________\n",
            "global_average_pooling1d_1 ( (None, 128)               0         \n",
            "_________________________________________________________________\n",
            "dense_2 (Dense)              (None, 128)               16512     \n",
            "_________________________________________________________________\n",
            "flatten_1 (Flatten)          (None, 128)               0         \n",
            "_________________________________________________________________\n",
            "dense_3 (Dense)              (None, 102)               13158     \n",
            "=================================================================\n",
            "Total params: 58,659,686\n",
            "Trainable params: 58,659,686\n",
            "Non-trainable params: 0\n",
            "_________________________________________________________________\n"
          ],
          "name": "stdout"
        }
      ]
    },
    {
      "cell_type": "markdown",
      "metadata": {
        "id": "XGa7KPhaQuLA",
        "colab_type": "text"
      },
      "source": [
        "<a id='loss-function-and-optimizer'></a>\n",
        "#### Loss function and optimizer"
      ]
    },
    {
      "cell_type": "code",
      "metadata": {
        "id": "no3QzrwTQuLC",
        "colab_type": "code",
        "colab": {}
      },
      "source": [
        "model.compile(optimizer='adam',\n",
        "              loss='categorical_crossentropy',\n",
        "              metrics=['acc'])"
      ],
      "execution_count": 0,
      "outputs": []
    },
    {
      "cell_type": "markdown",
      "metadata": {
        "id": "ZsPlfE6rQuLI",
        "colab_type": "text"
      },
      "source": [
        "<a id='train-model'></a>\n",
        "### Train the model"
      ]
    },
    {
      "cell_type": "code",
      "metadata": {
        "scrolled": false,
        "id": "zl59mQE6QuLJ",
        "colab_type": "code",
        "colab": {
          "base_uri": "https://localhost:8080/",
          "height": 404
        },
        "outputId": "1344aef0-9f80-4e65-a8d5-7ee436fa6cb8"
      },
      "source": [
        "history = model.fit(partial_x_train,\n",
        "                    partial_y_train,\n",
        "                    epochs=10,\n",
        "                    batch_size=512,\n",
        "                    validation_data=(x_val, y_val),\n",
        "                    verbose=1)"
      ],
      "execution_count": 24,
      "outputs": [
        {
          "output_type": "stream",
          "text": [
            "Train on 211290 samples, validate on 10000 samples\n",
            "Epoch 1/10\n",
            "211290/211290 [==============================] - 243s 1ms/sample - loss: 4.4824 - acc: 0.0381 - val_loss: 4.1696 - val_acc: 0.0867\n",
            "Epoch 2/10\n",
            "211290/211290 [==============================] - 243s 1ms/sample - loss: 3.7039 - acc: 0.1817 - val_loss: 3.3779 - val_acc: 0.2535\n",
            "Epoch 3/10\n",
            "211290/211290 [==============================] - 242s 1ms/sample - loss: 2.7892 - acc: 0.3877 - val_loss: 2.8613 - val_acc: 0.3794\n",
            "Epoch 4/10\n",
            "211290/211290 [==============================] - 243s 1ms/sample - loss: 2.0489 - acc: 0.5616 - val_loss: 2.5914 - val_acc: 0.4410\n",
            "Epoch 5/10\n",
            "211290/211290 [==============================] - 241s 1ms/sample - loss: 1.4868 - acc: 0.6923 - val_loss: 2.4916 - val_acc: 0.4687\n",
            "Epoch 6/10\n",
            "211290/211290 [==============================] - 242s 1ms/sample - loss: 1.0698 - acc: 0.7873 - val_loss: 2.4822 - val_acc: 0.4767\n",
            "Epoch 7/10\n",
            "211290/211290 [==============================] - 244s 1ms/sample - loss: 0.7692 - acc: 0.8548 - val_loss: 2.5083 - val_acc: 0.4871\n",
            "Epoch 8/10\n",
            "211290/211290 [==============================] - 245s 1ms/sample - loss: 0.5562 - acc: 0.8998 - val_loss: 2.5837 - val_acc: 0.4847\n",
            "Epoch 9/10\n",
            "211290/211290 [==============================] - 245s 1ms/sample - loss: 0.4083 - acc: 0.9292 - val_loss: 2.6720 - val_acc: 0.4837\n",
            "Epoch 10/10\n",
            "211290/211290 [==============================] - 243s 1ms/sample - loss: 0.3041 - acc: 0.9486 - val_loss: 2.7627 - val_acc: 0.4848\n"
          ],
          "name": "stdout"
        }
      ]
    },
    {
      "cell_type": "markdown",
      "metadata": {
        "id": "PAJ8SCQrQuLN",
        "colab_type": "text"
      },
      "source": [
        "<a id='evaluate-model'></a>\n",
        "### Evaluate the model"
      ]
    },
    {
      "cell_type": "code",
      "metadata": {
        "scrolled": true,
        "id": "TQ8RMrnMQuLO",
        "colab_type": "code",
        "colab": {
          "base_uri": "https://localhost:8080/",
          "height": 53
        },
        "outputId": "08d47156-00cd-4be7-8712-46c77aec303a"
      },
      "source": [
        "results = model.evaluate(x_test, y_test)\n",
        "print(results)"
      ],
      "execution_count": 25,
      "outputs": [
        {
          "output_type": "stream",
          "text": [
            "73764/73764 [==============================] - 3s 40us/sample - loss: 2.8120 - acc: 0.4735\n",
            "[2.811993542879046, 0.47353724]\n"
          ],
          "name": "stdout"
        }
      ]
    },
    {
      "cell_type": "markdown",
      "metadata": {
        "id": "SZCPVFpFQuLW",
        "colab_type": "text"
      },
      "source": [
        "<a id='plot-accuracy-and-loss'></a>\n",
        "#### Plot accuracy and loss over time"
      ]
    },
    {
      "cell_type": "code",
      "metadata": {
        "id": "ZWtq4vCPQuLY",
        "colab_type": "code",
        "colab": {
          "base_uri": "https://localhost:8080/",
          "height": 35
        },
        "outputId": "db102efc-51e4-4fd2-9b2a-c3381dba52d3"
      },
      "source": [
        "history_dict = history.history\n",
        "history_dict.keys()"
      ],
      "execution_count": 26,
      "outputs": [
        {
          "output_type": "execute_result",
          "data": {
            "text/plain": [
              "dict_keys(['loss', 'acc', 'val_loss', 'val_acc'])"
            ]
          },
          "metadata": {
            "tags": []
          },
          "execution_count": 26
        }
      ]
    },
    {
      "cell_type": "code",
      "metadata": {
        "id": "6oqcdocyQuLe",
        "colab_type": "code",
        "colab": {}
      },
      "source": [
        "acc = history_dict['acc']\n",
        "val_acc = history_dict['val_acc']\n",
        "loss = history_dict['loss']\n",
        "val_loss = history_dict['val_loss']\n",
        "\n",
        "epochs = range(1, len(acc) + 1)"
      ],
      "execution_count": 0,
      "outputs": []
    },
    {
      "cell_type": "code",
      "metadata": {
        "id": "uU2X3umFQuLp",
        "colab_type": "code",
        "colab": {
          "base_uri": "https://localhost:8080/",
          "height": 1000
        },
        "outputId": "6c88d4fc-28d8-42be-8296-67f1e5d5979f"
      },
      "source": [
        "# Plotting polarity\n",
        "f, (ax1, ax2) = plt.subplots(2, 1, figsize=(20, 20), dpi=80, sharex=True)\n",
        "sns.lineplot(epochs, acc, label='Training Accuracy', color='navy', ax=ax1)\n",
        "sns.lineplot(epochs, val_acc, label='Validation Accuracy', color='brown', ax=ax1)\n",
        "sns.lineplot(epochs, loss, label='Training Loss', color='navy', ax=ax2)\n",
        "sns.lineplot(epochs, val_loss, label='Validation Loss', color='brown', ax=ax2)\n",
        "ax1.set_title('Training & Validation Accuracy', fontsize=22)\n",
        "ax2.set_title('Training & Validation Loss', fontsize=22)\n",
        "ax1.set_ylabel('Accuracy', fontsize=14)\n",
        "ax2.set_ylabel('Loss', fontsize=14)\n",
        "ax1.legend(), ax2.legend()\n",
        "ax1.grid(), ax2.grid()\n",
        "plt.xlabel('Epochs')"
      ],
      "execution_count": 28,
      "outputs": [
        {
          "output_type": "execute_result",
          "data": {
            "text/plain": [
              "Text(0.5, 0, 'Epochs')"
            ]
          },
          "metadata": {
            "tags": []
          },
          "execution_count": 28
        },
        {
          "output_type": "display_data",
          "data": {
            "image/png": "[encoded data removed]",
            "text/plain": [
              "<Figure size 1600x1600 with 2 Axes>"
            ]
          },
          "metadata": {
            "tags": []
          }
        }
      ]
    },
    {
      "cell_type": "code",
      "metadata": {
        "id": "Uc9XGO9NQuLv",
        "colab_type": "code",
        "colab": {}
      },
      "source": [
        ""
      ],
      "execution_count": 0,
      "outputs": []
    }
  ]
}