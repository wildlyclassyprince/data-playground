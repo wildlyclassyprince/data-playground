{
 "cells": [
  {
   "cell_type": "markdown",
   "metadata": {},
   "source": [
    "# Loan Prediction Challenge: Modeling"
   ]
  },
  {
   "cell_type": "code",
   "execution_count": null,
   "metadata": {},
   "outputs": [],
   "source": [
    "# Header\n",
    "from __future__ import absolute_import\n",
    "from __future__ import division\n",
    "from __future__ import print_function\n",
    "from __future__ import unicode_literals"
   ]
  },
  {
   "cell_type": "code",
   "execution_count": null,
   "metadata": {},
   "outputs": [],
   "source": [
    "# Imports\n",
    "# The usual suspects ...\n",
    "import pandas as pd\n",
    "import numpy as np\n",
    "import matplotlib.pyplot as plt\n",
    "import seaborn as sns\n",
    "\n",
    "# Cleaning\n",
    "from modeling.cleaning import convert_to_datetime\n",
    "from modeling.cleaning import convert_to_category_type\n",
    "from modeling.cleaning import label_encoding\n",
    "\n",
    "# Pipeline functions\n",
    "from modeling.classification import train_model\n",
    "from modeling.classification import predict\n",
    "from modeling.classification import prediction_metrics\n",
    "from modeling.classification import plot_confusion_matrix\n",
    "from modeling.classification import plot_results\n",
    "\n",
    "# Preprocessing\n",
    "from sklearn.model_selection import train_test_split\n",
    "\n",
    "# Models\n",
    "from sklearn.ensemble import ExtraTreesClassifier\n",
    "from sklearn.ensemble import GradientBoostingClassifier\n",
    "from sklearn.ensemble import RandomForestClassifier\n",
    "from sklearn.neural_network import MLPClassifier\n",
    "from sklearn.svm import SVC\n",
    "\n",
    "# Hyper-parameter optimisation\n",
    "from sklearn.model_selection import GridSearchCV\n",
    "\n",
    "# Oversampling\n",
    "from imblearn.over_sampling import ADASYN\n",
    "\n",
    "# Utilities\n",
    "from collections import Counter"
   ]
  },
  {
   "cell_type": "markdown",
   "metadata": {},
   "source": [
    "## Pipeline Evaluation\n",
    "### Preprocessing\n"
   ]
  },
  {
   "cell_type": "code",
   "execution_count": null,
   "metadata": {},
   "outputs": [],
   "source": [
    "# Import the data\n",
    "df = pd.read_csv('../data/new_feature_matrix.csv')"
   ]
  },
  {
   "cell_type": "code",
   "execution_count": null,
   "metadata": {},
   "outputs": [],
   "source": [
    "# Drop `customerid`\n",
    "df.drop(columns=['customerid', 'approveddate', 'creationdate'], inplace=True)\n",
    "\n",
    "# Categorical\n",
    "convert_to_category_type(df)\n",
    "\n",
    "# Encoding\n",
    "label_encoding(df)\n",
    "\n",
    "assert df.isnull().sum().values.sum() == 0"
   ]
  },
  {
   "cell_type": "code",
   "execution_count": null,
   "metadata": {},
   "outputs": [],
   "source": [
    "# Feature-label split\n",
    "X = df.drop(columns=['good_bad_flag'])\n",
    "y = df['good_bad_flag']\n",
    "\n",
    "# Train-test split\n",
    "X_train, X_test, y_train, y_test = train_test_split(X, y, test_size=.25, random_state=42, shuffle=True)"
   ]
  },
  {
   "cell_type": "markdown",
   "metadata": {},
   "source": [
    "### Modeling"
   ]
  },
  {
   "cell_type": "code",
   "execution_count": null,
   "metadata": {},
   "outputs": [],
   "source": [
    "# Models\n",
    "names = ['Extra Trees',\n",
    "         'Gradient Boosted',\n",
    "         'Random Forest', \n",
    "         'Support Vector Machine']\n",
    "\n",
    "# Instantiate models\n",
    "models = [ExtraTreesClassifier(n_estimators=100, max_depth=5),\n",
    "          GradientBoostingClassifier(n_estimators=100),\n",
    "          RandomForestClassifier(n_estimators=100),\n",
    "          SVC(C=.01, gamma='auto')]\n",
    "\n",
    "# Target classes\n",
    "classes = np.array(['Good', 'Bad'])"
   ]
  },
  {
   "cell_type": "code",
   "execution_count": null,
   "metadata": {},
   "outputs": [],
   "source": [
    "for m, name in zip(models, names):\n",
    "    # Train\n",
    "    model = train_model(X_train, y_train, m)\n",
    "    # Predict\n",
    "    predictions = predict(X_test, model)\n",
    "    # Evaluate\n",
    "    results = prediction_metrics(y_test, predictions, names, name)\n",
    "    # Confusion matrix\n",
    "    #plot_confusion_matrix(y_test, predictions, classes, title=name)"
   ]
  },
  {
   "cell_type": "code",
   "execution_count": null,
   "metadata": {},
   "outputs": [],
   "source": [
    "# Results\n",
    "plot_results(results)"
   ]
  },
  {
   "cell_type": "markdown",
   "metadata": {},
   "source": [
    "### ADASYN (Adaptive Synthetic)"
   ]
  },
  {
   "cell_type": "code",
   "execution_count": null,
   "metadata": {},
   "outputs": [],
   "source": [
    "# ADASYN resampling\n",
    "X_resampled, y_resampled = ADASYN().fit_resample(X, y)\n",
    "print(sorted(Counter(y_resampled).items()))"
   ]
  },
  {
   "cell_type": "code",
   "execution_count": null,
   "metadata": {},
   "outputs": [],
   "source": [
    "# Train-test split\n",
    "aX_train, aX_test, ay_train, ay_test = train_test_split(X_resampled, y_resampled, test_size=.25)"
   ]
  },
  {
   "cell_type": "code",
   "execution_count": null,
   "metadata": {
    "scrolled": false
   },
   "outputs": [],
   "source": [
    "for m, name in zip(models, names):\n",
    "    # Train\n",
    "    model = train_model(aX_train, ay_train, m)\n",
    "    # Predict\n",
    "    predictions = predict(X_test, model)\n",
    "    # Evaluate\n",
    "    results = prediction_metrics(y_test, predictions, names, name)\n",
    "    # Confusion matrix\n",
    "    #plot_confusion_matrix(y_test, predictions, classes, title=name)"
   ]
  },
  {
   "cell_type": "code",
   "execution_count": null,
   "metadata": {
    "scrolled": true
   },
   "outputs": [],
   "source": [
    "# Results\n",
    "plot_results(results)"
   ]
  },
  {
   "cell_type": "markdown",
   "metadata": {},
   "source": []
  }
 ],
 "metadata": {
  "kernelspec": {
   "display_name": "Python 3",
   "language": "python",
   "name": "python3"
  },
  "language_info": {
   "codemirror_mode": {
    "name": "ipython",
    "version": 3
   },
   "file_extension": ".py",
   "mimetype": "text/x-python",
   "name": "python",
   "nbconvert_exporter": "python",
   "pygments_lexer": "ipython3",
   "version": "3.7.3"
  }
 },
 "nbformat": 4,
 "nbformat_minor": 2
}
