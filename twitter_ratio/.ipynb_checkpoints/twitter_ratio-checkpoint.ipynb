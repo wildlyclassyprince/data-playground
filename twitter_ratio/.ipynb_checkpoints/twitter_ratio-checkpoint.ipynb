{
 "cells": [
  {
   "cell_type": "markdown",
   "metadata": {},
   "source": [
    "# Twitter Ratio\n",
    "\n",
    "This folder contains data behind the story [The Worst Tweeter In Politics Isn’t Trump](https://fivethirtyeight.com/features/the-worst-tweeter-in-politics-isnt-trump/).\n",
    "\n",
    "`senators.csv` contains tweets from all senators collected on Oct. 19 and 20.\n",
    "\n",
    "`BarackObama.csv` contains tweets from [@BarackObama](https://twitter.com/BarackObama) collected on Oct. 20.\n",
    "\n",
    "`realDonaldTrump.csv` contains tweets from [@realDonaldTrump](https://twitter.com/realDonaldTrump) collected on Oct. 23.\n",
    "\n",
    "## Senator Tweets\n",
    "\n",
    "We'll start of by looking at the `senators.csv` dataset."
   ]
  },
  {
   "cell_type": "code",
   "execution_count": null,
   "metadata": {},
   "outputs": [],
   "source": [
    "# The usual suspects ...\n",
    "import logging\n",
    "import gensim\n",
    "import pandas as pd\n",
    "import matplotlib.pyplot as plt\n",
    "import seaborn as sns\n",
    "import cleaner2 as clr\n",
    "import time_series as ts\n",
    "\n",
    "# And their accomplices ...\n",
    "from gensim import corpora\n",
    "from gensim import models\n",
    "from gensim import similarities\n",
    "from nltk.corpus import stopwords\n",
    "from nltk.tokenize import wordpunct_tokenize\n",
    "from collections import defaultdict\n",
    "from sklearn.cluster import KMeans\n",
    "from time import time\n",
    "\n",
    "# Settings\n",
    "sns.set(context='notebook', style='whitegrid', palette='deep', rc=None)\n",
    "#logging.basicConfig(format='%(asctime)s : %(levelname)s : %(message)s', level=logging.INFO)"
   ]
  },
  {
   "cell_type": "code",
   "execution_count": null,
   "metadata": {},
   "outputs": [],
   "source": [
    "# Reading in the data\n",
    "tweets = pd.read_csv('senators.csv', encoding=\"ISO-8859-1\")\n",
    "tweets.shape"
   ]
  },
  {
   "cell_type": "code",
   "execution_count": null,
   "metadata": {
    "scrolled": true
   },
   "outputs": [],
   "source": [
    "# Top 5 rows\n",
    "tweets.head()"
   ]
  },
  {
   "cell_type": "markdown",
   "metadata": {},
   "source": [
    "### Exploration"
   ]
  },
  {
   "cell_type": "code",
   "execution_count": null,
   "metadata": {},
   "outputs": [],
   "source": [
    "tweets.dtypes"
   ]
  },
  {
   "cell_type": "code",
   "execution_count": null,
   "metadata": {},
   "outputs": [],
   "source": [
    "# Distribution of replies\n",
    "plt.figure(figsize=(16, 9))\n",
    "sns.kdeplot(tweets.replies)\n",
    "plt.title('Distribution of Replies', fontsize=16)\n",
    "plt.xlabel('Number of Replies', fontsize=12)\n",
    "plt.ylabel('Density', fontsize=12)"
   ]
  },
  {
   "cell_type": "code",
   "execution_count": null,
   "metadata": {},
   "outputs": [],
   "source": [
    "# Distribution of retweets\n",
    "plt.figure(figsize=(16, 9))\n",
    "sns.kdeplot(tweets.retweets)\n",
    "plt.title('Distribution of Retweets', fontsize=16)\n",
    "plt.xlabel('Number of Retweets', fontsize=12)\n",
    "plt.ylabel('Density', fontsize=12)"
   ]
  },
  {
   "cell_type": "code",
   "execution_count": null,
   "metadata": {},
   "outputs": [],
   "source": [
    "# Distribution of favourites\n",
    "plt.figure(figsize=(16, 9))\n",
    "sns.kdeplot(tweets.favorites)\n",
    "plt.title('Distribution of Favorites', fontsize=16)\n",
    "plt.xlabel('Number of Favorites', fontsize=12)\n",
    "plt.ylabel('Density', fontsize=12)"
   ]
  },
  {
   "cell_type": "code",
   "execution_count": null,
   "metadata": {
    "scrolled": false
   },
   "outputs": [],
   "source": [
    "# Replies-Retweets\n",
    "plt.figure(figsize=(16, 9))\n",
    "sns.kdeplot(tweets.replies[:10].dropna(), tweets.retweets[:10].dropna())\n",
    "plt.title('Replies & Retweets (first 10)', fontsize=16)\n",
    "plt.xlabel('Replies', fontsize=12)\n",
    "plt.ylabel('Retweets', fontsize=12)"
   ]
  },
  {
   "cell_type": "code",
   "execution_count": null,
   "metadata": {},
   "outputs": [],
   "source": [
    "# Favourites-Retweets\n",
    "plt.figure(figsize=(16, 9))\n",
    "sns.kdeplot(tweets.favorites[:10].dropna(), tweets.retweets[:10].dropna())\n",
    "plt.title('Favorites & Retweets (first 10)', fontsize=16)\n",
    "plt.xlabel('Favorites', fontsize=12)\n",
    "plt.ylabel('Retweets', fontsize=12)"
   ]
  },
  {
   "cell_type": "code",
   "execution_count": null,
   "metadata": {},
   "outputs": [],
   "source": [
    "# Replies-Favorites\n",
    "plt.figure(figsize=(16, 9))\n",
    "sns.kdeplot(tweets.replies[:10].dropna(), tweets.favorites[:10].dropna())\n",
    "plt.title('Replies & Favorites (first 10)', fontsize=16)\n",
    "plt.xlabel('Replies', fontsize=12)\n",
    "plt.ylabel('Favorites', fontsize=12)"
   ]
  },
  {
   "cell_type": "code",
   "execution_count": null,
   "metadata": {},
   "outputs": [],
   "source": [
    "# Distribution of users\n",
    "plt.figure(figsize=(16, 20))\n",
    "sns.countplot(y=tweets.user, order=tweets.user.value_counts().index)\n",
    "plt.title('Distribution of Users', fontsize=16)\n",
    "plt.ylabel('')\n",
    "plt.xlabel('Count', fontsize=12)"
   ]
  },
  {
   "cell_type": "code",
   "execution_count": null,
   "metadata": {},
   "outputs": [],
   "source": [
    "# Distribution of user replies\n",
    "plt.figure(figsize=(16, 20))\n",
    "sns.barplot(x=tweets.replies, y=tweets.user, order=tweets.user.value_counts().index)\n",
    "plt.title('Distribution of User Replies', fontsize=16)\n",
    "plt.ylabel('')\n",
    "plt.xlabel('Replies', fontsize=12)"
   ]
  },
  {
   "cell_type": "code",
   "execution_count": null,
   "metadata": {},
   "outputs": [],
   "source": [
    "# Distribution of user replies\n",
    "a = tweets.groupby(['user', 'replies'])['user'].count().unstack('replies').dropna(axis=1, how='any')\n",
    "plt.figure(figsize=(16, 9))\n",
    "sns.heatmap(a)\n",
    "plt.title('Distribution of User Replies', fontsize=16)\n",
    "plt.xlabel('Replies', fontsize=12)\n",
    "plt.ylabel('')"
   ]
  },
  {
   "cell_type": "code",
   "execution_count": null,
   "metadata": {},
   "outputs": [],
   "source": [
    "# Distribution of user retweets\n",
    "a = tweets.groupby(['user', 'retweets'])['user'].count().unstack('retweets').dropna(axis=1, how='all')\n",
    "\n",
    "# Cleaning the matrix\n",
    "_removeColumn = list()\n",
    "for column in a.columns:\n",
    "    # 1. Number of unique items the columns contains:\n",
    "    if (len(a[column].unique()) == 1):\n",
    "        _removeColumn.append(column)\n",
    "        # 2. Number of missing values:\n",
    "    elif (a[column].isnull().sum() > ((a.shape[0])/2)):\n",
    "        _removeColumn.append(column)\n",
    "\n",
    "# Removing the columns\n",
    "deleteColumn = (x for x in _removeColumn)\n",
    "try:\n",
    "    while True:\n",
    "        del a[deleteColumn.__next__()]\n",
    "except StopIteration:\n",
    "    pass\n",
    "\n",
    "# Plotting\n",
    "plt.figure(figsize=(16, 9))\n",
    "sns.heatmap(a)\n",
    "plt.title('Distribution of User Retweets', fontsize=16)\n",
    "plt.xlabel('Retweets', fontsize=12)\n",
    "plt.ylabel('')"
   ]
  },
  {
   "cell_type": "code",
   "execution_count": null,
   "metadata": {},
   "outputs": [],
   "source": [
    "# Distribution of party affiliations\n",
    "clr.frequency_plot(dataframe=tweets, \n",
    "                   x='party',\n",
    "                   title='Distribution of Party Affiliation',\n",
    "                   xlabel='Affiliation')"
   ]
  },
  {
   "cell_type": "code",
   "execution_count": null,
   "metadata": {},
   "outputs": [],
   "source": [
    "# Distribution of states\n",
    "sns.countplot(tweets.state, order=tweets.state.value_counts().index)\n",
    "plt.title('Distribution of States', fontsize=16)\n",
    "plt.xlabel('State', fontsize=12)\n",
    "plt.ylabel('Count', fontsize=12)"
   ]
  },
  {
   "cell_type": "code",
   "execution_count": null,
   "metadata": {},
   "outputs": [],
   "source": [
    "# State-Party\n",
    "a = tweets.groupby(['state', 'party'])['state'].count().unstack('party')\n",
    "sns.heatmap(a)\n",
    "plt.title('State-Party Affiliation', fontsize=16)\n",
    "plt.xlabel('Party', fontsize=12)\n",
    "plt.ylabel('')\n",
    "plt.yticks(rotation=0)"
   ]
  },
  {
   "cell_type": "code",
   "execution_count": null,
   "metadata": {},
   "outputs": [],
   "source": [
    "# State-Retweets\n",
    "a = tweets.groupby(['state', 'retweets'])['retweets'].count().unstack('retweets').dropna(axis=1, how='any')\n",
    "sns.heatmap(a)\n",
    "plt.title('State Retweets', fontsize=16)\n",
    "plt.xlabel('Number of Retweets', fontsize=12)\n",
    "plt.ylabel('')\n",
    "plt.yticks(rotation=0)"
   ]
  },
  {
   "cell_type": "code",
   "execution_count": null,
   "metadata": {},
   "outputs": [],
   "source": [
    "# State-Replies\n",
    "a = tweets.groupby(['state', 'replies'])['replies'].count().unstack('replies').dropna(axis=1, how='any')\n",
    "sns.heatmap(a)\n",
    "plt.title('State Replies', fontsize=16)\n",
    "plt.xlabel('Number of Replies', fontsize=12)\n",
    "plt.ylabel('')\n",
    "plt.yticks(rotation=0)"
   ]
  },
  {
   "cell_type": "markdown",
   "metadata": {},
   "source": [
    "### Time Series"
   ]
  },
  {
   "cell_type": "code",
   "execution_count": null,
   "metadata": {},
   "outputs": [],
   "source": [
    "# Converting 'created_at' to datetime format\n",
    "ts.convert_to_datetime(data=tweets, column='created_at')\n",
    "\n",
    "# Sub-setting\n",
    "tweets_subset = tweets.loc[(tweets['created_at'].dt.year > 2016)]\n",
    "tweets_subset = tweets_subset.sort_values(by='created_at')"
   ]
  },
  {
   "cell_type": "code",
   "execution_count": 21,
   "metadata": {},
   "outputs": [
    {
     "data": {
      "image/png": "[encoded data removed]",
      "text/plain": [
       "<Figure size 1584x720 with 1 Axes>"
      ]
     },
     "metadata": {},
     "output_type": "display_data"
    }
   ],
   "source": [
    "# Creating the tweet replies series\n",
    "replies = ts.create_series(data=tweets, time_column='created_at', category_column='replies')\n",
    "\n",
    "# Number of tweet replies over time\n",
    "ts.plot_series(replies, title='Number of Replies Over Time', ylabel='Frequency')"
   ]
  },
  {
   "cell_type": "code",
   "execution_count": null,
   "metadata": {},
   "outputs": [],
   "source": [
    "# Creating the retweet series\n",
    "retweets = ts.create_series(data=tweets, time_column='created_at', category_column='retweets)\n",
    "\n",
    "# Number of retweets over time\n",
    "ts.plot_series(retweets, title='Number of Retweets Over Time', ylabel='Frequency')"
   ]
  },
  {
   "cell_type": "code",
   "execution_count": null,
   "metadata": {},
   "outputs": [],
   "source": [
    "# Creating the favorites series\n",
    "favorites = ts.create_series(data=tweets, time_column='created_at', category_column='favorites')\n",
    "\n",
    "# Number of retweets over time\n",
    "ts.plot_series(favorites, title='Number of Favorites Over Time', ylabel='Frequency')"
   ]
  },
  {
   "cell_type": "markdown",
   "metadata": {},
   "source": [
    "### Text Analysis"
   ]
  },
  {
   "cell_type": "raw",
   "metadata": {},
   "source": [
    "# Text corpus\n",
    "document = [i for i in tweets.text]\n",
    "\n",
    "# Removing common words and tokenizing\n",
    "stop_words = set(stopwords.words('english'))\n",
    "update_words = ['-', '=', '+', '*','.', ',', '\"', \"'\", '?', '!', 'w/',\n",
    "                ':', ';', 'heäó»ll', \"i'd\", '(and', \"there's\", '(', \n",
    "                ')', '[', ']', '{', '}', '&amp', '&amp;', '&', '$', \n",
    "                '^', '.*', '*.', 'äóìbest', 'adäó_', 'staäó_', \"i'll\",\n",
    "                'worldäó_', 'hereäó»s', 'letäó»s', 'adminäó»s', '(who', \n",
    "                'haveäó_', 'äóñ', '--', '---', 'träó_', 'americaäó»s', \n",
    "                'andäó_', 'foräó_', 'cräó_', 'asäó_', 'täó_', 'wäó_', \n",
    "                'toäó_', \"it'll\", \"i've\", 'iäó»ll', 'here:', ':here',\n",
    "                'https:äó_', 'httpsäó_']\n",
    "stop_words.update(update_words)\n",
    "for doc in document:\n",
    "    list_of_words = [i.lower() for i in wordpunct_tokenize(doc) if i.lower() not in stop_words]\n",
    "stop_words.update(list_of_words)\n",
    "\n",
    "# Removing common words\n",
    "texts = [[word for word in doc.lower().split() if word not in stop_words] for doc in document]\n",
    "\n",
    "# Removing words that appear only once\n",
    "frequency = defaultdict(int)\n",
    "for text in texts:\n",
    "    for token in text:\n",
    "        frequency[token] += 1\n",
    "texts = [[token for token in text if frequency[token] > 7] for text in texts]\n",
    "\n",
    "# Create dictionary of the document\n",
    "dictionary = corpora.Dictionary(texts)\n",
    "dictionary.save('senator.dict')\n",
    "\n",
    "# Converting document to a vector (bag-of-words)\n",
    "corpus = [dictionary.doc2bow(text) for text in texts]\n",
    "corpora.MmCorpus.serialize('senator.mm', corpus)\n",
    "\n",
    "# Print done\n",
    "print('Done!')"
   ]
  },
  {
   "cell_type": "code",
   "execution_count": null,
   "metadata": {},
   "outputs": [],
   "source": [
    "# Loading ...\n",
    "dictionary = corpora.Dictionary.load('senator.dict')"
   ]
  },
  {
   "cell_type": "markdown",
   "metadata": {},
   "source": [
    "***\n",
    "#### Transformation: _Term Frequency - Inverse Document Frequency (TF-IDF)_\n",
    "\n",
    "**tf-idf** is initialized with a **bag-of-words** (integer values) training corpus and takes in a vector, returning another vector of the same dimensionality. except that features which are rare in the training corpus will have their value increased. It therefore converts integer-valued vectors into real-valued ones, while leaving the number of dimensions intact. It can also, optionally, normalize the resulting vectors to (Euclidean) unit length.\n",
    "\n",
    "##### Step 1:"
   ]
  },
  {
   "cell_type": "raw",
   "metadata": {},
   "source": [
    "# Initialization\n",
    "tfidf = models.TfidfModel(corpus)"
   ]
  },
  {
   "cell_type": "markdown",
   "metadata": {},
   "source": [
    "##### Step 2:"
   ]
  },
  {
   "cell_type": "raw",
   "metadata": {},
   "source": [
    "# Applying the transformation to the whole corpus\n",
    "corpus_tfidf = tfidf[corpus]"
   ]
  },
  {
   "cell_type": "markdown",
   "metadata": {},
   "source": [
    "#### Transformation: _Latent Semantic Indexing (LSI, or sometimes LSA)_\n",
    "\n",
    "Transforms documents from either **bag-of-words** or (preferably) **tf-idf**-weighted space into a latent space of a lower dimensionality. \n",
    "\n",
    "**LSI** is unique in that we can continue \"training\" at any point, simply by providing more training documents. This is done by incremental updates to the underlying model, in a process called _online training_. Because of this feature, the input document stream may even be infinite - just keep feeding **LSI** new documents as they arrive, while using the computed transformation model as read-only in the meanwhile!\n",
    "\n",
    "[gensim.models.lsimodel](https://radimrehurek.com/gensim/models/lsimodel.html#module-gensim.models.lsimodel) contains details for making an **LSI** model gradually \"forget\" old observations in infinite streams, with parameters that can be tweaked to affect speed, memory footprint and numerical precision of the **LSI** algorithm.\n",
    "\n",
    "[___gensim___](https://radimrehurek.com/gensim) uses a novel online incremental streamed distributed training algorithm published [here](https://radimrehurek.com/gensim/tut2.html#id10). ___gensim___ also executes a stochastic multi-pass algorithm from [Halko et al.](https://radimrehurek.com/gensim/tut2.html#id9) internally, to accelerate in-core part of the computations."
   ]
  },
  {
   "cell_type": "raw",
   "metadata": {
    "scrolled": false
   },
   "source": [
    "# Initializing an LSI transformation\n",
    "lsi = models.LsiModel(corpus_tfidf, id2word=dictionary, num_topics=50)\n",
    "corpus_lsi = lsi[corpus_tfidf]"
   ]
  },
  {
   "cell_type": "raw",
   "metadata": {},
   "source": [
    "lsi.print_topics(10)"
   ]
  },
  {
   "cell_type": "markdown",
   "metadata": {},
   "source": [
    "| Top 5 Topics from Latent Semantic Indexing (LSI) |\n",
    "| --- |\n",
    "| **1** | _\"rt\", \"great\", \"senate\", \"health\", \"today\", \"bill\", \"care\", \"thanks\", \"thank\", \"help\"_ | **Description:** | Retweets of tweets related to a health care bill with \"thanks\" for \"help\". |\n",
    "| **2** | _\"great\", \"health\", \"care\", \"thanks\", \"bill\", \"senate\", \"thank\", \"meeting\", \"happy\", \"today\"_ | **Description:** | Tweets related to health care bill with references to a \"happy meeting\". |\n",
    "| **3** | _\"health\", \"care\", \"watch\", \"rt\", \"senate\", \"live\", \"great\", \"floor\", \"tune\", \"hearing\"_ | **Description:** | Tweets referencing a health care bill & watching or tuning into a live broadcast of a hearing. |\n",
    "| **4** | _\"rt\", \"thank\", \"great\", \"senate\", \"watch\", \"happy\", \"live\", \"tune\", \"floor\", \"health\"_ | **Description:** | Retweets with commentary of giving thanks of a live screening related to health. |\n",
    "| **5** | _\"rt\", \"health\", \"care\", \"help\", \"senate\", \"happy\", \"thanks\", \"proud\", \"bill\", \"live\"_ | **Description:** | Retweets of tweets related to a health care bill with senate being happy and proud of the bill. |"
   ]
  },
  {
   "cell_type": "raw",
   "metadata": {},
   "source": [
    "# Saving ...\n",
    "lsi.save('senator.lsi')"
   ]
  },
  {
   "cell_type": "code",
   "execution_count": null,
   "metadata": {},
   "outputs": [],
   "source": [
    "# Loading ...\n",
    "lsi = models.LsiModel.load('senator.lsi')"
   ]
  },
  {
   "cell_type": "markdown",
   "metadata": {},
   "source": [
    "***\n",
    "#### Similarity\n",
    "##### Step 1:"
   ]
  },
  {
   "cell_type": "raw",
   "metadata": {},
   "source": [
    "# Initializing the query structure: transform corpus to LSI space and index it\n",
    "index = similarities.MatrixSimilarity(lsi[corpus], num_features=50)\n",
    "\n",
    "# Saving ...\n",
    "index.save('senator.index')"
   ]
  },
  {
   "cell_type": "code",
   "execution_count": null,
   "metadata": {},
   "outputs": [],
   "source": [
    "# Loading ...\n",
    "index = similarities.MatrixSimilarity.load('senator.index')"
   ]
  },
  {
   "cell_type": "markdown",
   "metadata": {},
   "source": [
    "##### Step 2:"
   ]
  },
  {
   "cell_type": "code",
   "execution_count": null,
   "metadata": {},
   "outputs": [],
   "source": [
    "# Performing queries\n",
    "doc = \"Hospital\"\n",
    "vec_bow = dictionary.doc2bow(doc.lower().split())\n",
    "\n",
    "# Convert the query to LSI spaace\n",
    "vec_lsi = lsi[vec_bow]\n",
    "\n",
    "# Perform a similarity query against the corpus\n",
    "sims = index[vec_lsi]\n",
    "\n",
    "# Ranking the tweets by their weights of similarity\n",
    "sims = sorted(enumerate(sims), key=lambda item: -item[1])\n",
    "\n",
    "# Printing the associated tweets:\n",
    "for i in range(10):\n",
    "    print(\"Tweet Rank #{}:\\tWeights {}\\nRaw Text: {}\\n\".format(i+1, sims[i][1], document[sims[i][0]]))"
   ]
  },
  {
   "cell_type": "markdown",
   "metadata": {},
   "source": [
    "#### Transformation:  _Latent Dirichlet Allocation (LDA)_\n",
    "\n",
    "**LDA** is a transformation from **bag-of-words** counts into a topic space of lower dimensionality. **LDA** is an extension of **LSA** (also called ___multinomial PCA___), so **LDA**'s topics can be interpreted as probability distributions over words. These distributions are, just like with **LSA**, inferred automatically from a training corpus. Documents are in turn interpreted as a (soft) mixture of these topics (just like **LSA**)."
   ]
  },
  {
   "cell_type": "raw",
   "metadata": {
    "scrolled": true
   },
   "source": [
    "# Batch LDA: extract 50 LDA topics, using 1 pass updating once every chunk (10,000 documents)\n",
    "lda = models.ldamodel.LdaModel(corpus, id2word=dictionary, num_topics=50, update_every=1, passes=1, chunksize=10000)\n",
    "\n",
    "# Saving ...\n",
    "lda.save('senator.lda')"
   ]
  },
  {
   "cell_type": "code",
   "execution_count": null,
   "metadata": {},
   "outputs": [],
   "source": [
    "# Loading ...\n",
    "lda = models.ldamodel.LdaModel.load('senator.lda')"
   ]
  },
  {
   "cell_type": "code",
   "execution_count": null,
   "metadata": {},
   "outputs": [],
   "source": [
    "# Top contributing words for 10 randomly selected topics\n",
    "lda.print_topics(10)"
   ]
  },
  {
   "cell_type": "markdown",
   "metadata": {},
   "source": [
    "| **Top 5 Randomly Selected Topics from Latent Dirichlet Allocation (LDA)** |\n",
    "| :---: | --- | :---: | --- |\n",
    "| **19** | _\"right\", \"@marcorubio\", \"long\", \"signed\", \"communities\", \"now.\", \"@senpatroberts\", \"rt\", \"things\", \"historic\"_ | **Description:** | Tweets related to the right mentioning [Marco Rubio](https://en.wikipedia.org/wiki/Marco_Rubio) and senator [Pat Roberts](https://en.wikipedia.org/wiki/Pat_Roberts) with retweets references to historic events and communities. |\n",
    "| **42** | _\"mr.\", \"rt\", \"nothing\", \"us\", \"become\", \"toward\", \"behind\", \"anyone\", \"actions\", \"fought\"_ | **Description:** | Topic 43 (index is 0) does not seem to have a coherent topic of reference.* |\n",
    "| **47** | _\"happy\", \"birthday\", \"helping\", \"arkansas\", \"celebrating\", \"rt\", \"https://t.äó_\", \"thank\", \"grant\", \"#tbt\"_ | **Description:** | Topic 48 contains birthday celebration references with the hashtag \"#tbt\" (Throw-Back-Thursday or is it Tuesday?). |\n",
    "| **12** | _\"rt\", \"@stevedaines\", \"senator\", \"defense\", \"https:/äó_\", \"award\", \"receive\", \"https://täó_\", \"sen.\", \"key\"'_ | **Description:** | This topic references retweets with mentions of senator [Steve Daines](https://en.wikipedia.org/wiki/Steve_Daines), receiving a defense awared. |\n",
    "| **0** | _\"county\", \"today!\", \"todayäó»s\", \"press\", \"visiting\", \"conference\", \"rt\", \"past\", \"following\", \"ohioans\"_ | **Description:** | Tweets related to a county in Ohio with press conference news retweets.* |\n",
    "\n",
    "### Summary\n",
    "\n",
    "At this point, we observe that **LDA** provides topic models with better coherent semantic reference compared to **LDA**, which seems to contain words with a hidden reference.\n",
    "\n",
    "***\n",
    "\n",
    "### Clustering Sentiments\n",
    "\n",
    "To cluster sentiments, we will use the `k-means` algorithm from a ***bag-of-words*** approach. This implies that we will be using the sparse matrix as oppossed to standard arrays.\n",
    "\n",
    "We will use the `gensim.matutils.corpus2csc()` function to convert our streamed corpus in ***bag-of-words*** format into a sparse matrix with documents as columns."
   ]
  },
  {
   "cell_type": "code",
   "execution_count": null,
   "metadata": {},
   "outputs": [],
   "source": [
    "# Converting the corpus into a sparse matrix\n",
    "print('Creating sparse matrix ...')\n",
    "corpus_sparse_matrix = gensim.matutils.corpus2csc(corpus_tfidf)\n",
    "print('Done!')\n",
    "\n",
    "# K-means model\n",
    "print('K-Means Model')\n",
    "print('Initializing ...')\n",
    "km = KMeans(n_clusters=50)\n",
    "\n",
    "# Fitting\n",
    "print('Fitting ...')\n",
    "t0 = time()\n",
    "km.fit(corpus_sparse_matrix)\n",
    "duration = time() - t0\n",
    "print('Complete!')\n",
    "print('Time to fit model: {}'.format(duration))\n",
    "sparse_clusters = km.labels_.tolist()"
   ]
  },
  {
   "cell_type": "code",
   "execution_count": null,
   "metadata": {},
   "outputs": [],
   "source": [
    "# Converting the corpus into a dense matrix\n",
    "print('Condensing the corpus ...')\n",
    "corpus_dense_matrix = gensim.matutils.corpus2dense(corpus_tfidf, num_terms=len(dictionary))\n",
    "print('Done!')\n",
    "\n",
    "# Fitting\n",
    "print('Fitting ...')\n",
    "t0 = time()\n",
    "km.fit(corpus_dense_matrix)\n",
    "duration = time() - t0\n",
    "print('Complete!')\n",
    "print('Time to fit model: {}'.format(duration))\n",
    "dense_clusters = km.labels_.tolist()"
   ]
  },
  {
   "cell_type": "code",
   "execution_count": null,
   "metadata": {},
   "outputs": [],
   "source": [
    "assert(len(dictionary)==len(clusters))"
   ]
  }
 ],
 "metadata": {
  "kernelspec": {
   "display_name": "Python 3",
   "language": "python",
   "name": "python3"
  },
  "language_info": {
   "codemirror_mode": {
    "name": "ipython",
    "version": 3
   },
   "file_extension": ".py",
   "mimetype": "text/x-python",
   "name": "python",
   "nbconvert_exporter": "python",
   "pygments_lexer": "ipython3",
   "version": "3.6.5"
  }
 },
 "nbformat": 4,
 "nbformat_minor": 2
}
