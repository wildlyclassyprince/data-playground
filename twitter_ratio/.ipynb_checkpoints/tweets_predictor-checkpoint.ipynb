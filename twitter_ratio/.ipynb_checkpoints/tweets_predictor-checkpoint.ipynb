{
 "cells": [
  {
   "cell_type": "markdown",
   "metadata": {},
   "source": [
    "# Tweets Ratio Prediction\n",
    "\n",
    "This notebook is preliminary analysis of tweets by US politicians. We will build a machine learning pipeline that determines the likely author of a tweet."
   ]
  },
  {
   "cell_type": "code",
   "execution_count": 1,
   "metadata": {},
   "outputs": [],
   "source": [
    "# The suspects ...\n",
    "import pandas as pd\n",
    "from sklearn.model_selection import train_test_split\n",
    "from sklearn.feature_extraction.text import CountVectorizer\n",
    "from sklearn.linear_model import LogisticRegression\n",
    "from sklearn.metrics import accuracy_score"
   ]
  },
  {
   "cell_type": "code",
   "execution_count": 2,
   "metadata": {},
   "outputs": [],
   "source": [
    "tweets = pd.read_csv('senators.csv', \n",
    "                     encoding='ISO-8859-1', \n",
    "                     usecols=['text', 'user']).head(10000)"
   ]
  },
  {
   "cell_type": "code",
   "execution_count": 3,
   "metadata": {},
   "outputs": [],
   "source": [
    "vectorizer = CountVectorizer(analyzer='word', lowercase=False)"
   ]
  },
  {
   "cell_type": "code",
   "execution_count": 4,
   "metadata": {},
   "outputs": [],
   "source": [
    "features = vectorizer.fit_transform(tweets.text)"
   ]
  },
  {
   "cell_type": "code",
   "execution_count": 5,
   "metadata": {},
   "outputs": [],
   "source": [
    "features_nd = features.toarray()"
   ]
  },
  {
   "cell_type": "code",
   "execution_count": 6,
   "metadata": {},
   "outputs": [],
   "source": [
    "data_labels = tweets.user"
   ]
  },
  {
   "cell_type": "code",
   "execution_count": 7,
   "metadata": {},
   "outputs": [],
   "source": [
    "X_train, X_test, y_train, y_test = train_test_split(features_nd,\n",
    "                                                    data_labels,\n",
    "                                                    random_state=1234)"
   ]
  },
  {
   "cell_type": "code",
   "execution_count": 8,
   "metadata": {},
   "outputs": [],
   "source": [
    "log_model = LogisticRegression()"
   ]
  },
  {
   "cell_type": "code",
   "execution_count": 9,
   "metadata": {},
   "outputs": [],
   "source": [
    "log_model = log_model.fit(X_train, y_train)"
   ]
  },
  {
   "cell_type": "code",
   "execution_count": 10,
   "metadata": {},
   "outputs": [],
   "source": [
    "y_pred = log_model.predict(X_test)"
   ]
  },
  {
   "cell_type": "code",
   "execution_count": 12,
   "metadata": {},
   "outputs": [
    {
     "name": "stdout",
     "output_type": "stream",
     "text": [
      "Who said it:\t\tamyklobuchar\n",
      "What they said:\t\tIn case you need another reason to oppose #GrahamCassidy, the @USCBO says it will lead to millions more Americans w/out health insurance\n",
      "\n",
      "Who said it:\t\tamyklobuchar\n",
      "What they said:\t\t.@SenBlumenthal &amp; I called on window covering manufacturers to use strongest safety protections. From 1996-2012, 184 kids strangled by cords\n",
      "\n",
      "Who said it:\t\tamyklobuchar\n",
      "What they said:\t\tUnderway here at our town hall meeting in Tensas Parish. Another great discussion on what we can do for Louisiana.\n",
      "\n",
      "Who said it:\t\tamyklobuchar\n",
      "What they said:\t\tPleased Admin responded to my call to use financial tools to hold S Sudan leaders accountable for kleptocracy https://t.co/7dBvDabrlL\n",
      "\n",
      "Who said it:\t\tamyklobuchar\n",
      "What they said:\t\tRT @AliABCNews: More @ChrisCoons: \"I look forward to the day that our president begins to carefully calibrate his statements and actions inäó_\n",
      "\n",
      "Who said it:\t\tamyklobuchar\n",
      "What they said:\t\tOnly TWO more hours before the polls close. Please make sure to vote before 8:00 PM tonight! #LASEN http://t.co/rwr7XZ23D3\n",
      "\n",
      "Who said it:\t\tamyklobuchar\n",
      "What they said:\t\tDon't always agree with @SenJohnMcCain but he is a man of integrity. Listening to no-principles Trump lecture McCaiäó_ https://t.co/b4B1sn2Uk5\n",
      "\n"
     ]
    }
   ],
   "source": [
    "import random\n",
    "j = random.randint(0, len(X_test)-7)\n",
    "for i in range(j,j+7):\n",
    "    print('Who said it:\\t\\t{}'.format(y_pred[0]))\n",
    "    ind=features_nd.tolist().index(X_test[i].tolist())\n",
    "    print('What they said:\\t\\t{}\\n'.format(tweets.text[ind].strip()))"
   ]
  },
  {
   "cell_type": "code",
   "execution_count": 12,
   "metadata": {},
   "outputs": [
    {
     "name": "stdout",
     "output_type": "stream",
     "text": [
      "Accuracy 86.16%\n"
     ]
    }
   ],
   "source": [
    "print('Accuracy {}%'.format(accuracy_score(y_test, y_pred)*100))"
   ]
  }
 ],
 "metadata": {
  "kernelspec": {
   "display_name": "Python 3",
   "language": "python",
   "name": "python3"
  },
  "language_info": {
   "codemirror_mode": {
    "name": "ipython",
    "version": 3
   },
   "file_extension": ".py",
   "mimetype": "text/x-python",
   "name": "python",
   "nbconvert_exporter": "python",
   "pygments_lexer": "ipython3",
   "version": "3.6.5"
  }
 },
 "nbformat": 4,
 "nbformat_minor": 2
}
