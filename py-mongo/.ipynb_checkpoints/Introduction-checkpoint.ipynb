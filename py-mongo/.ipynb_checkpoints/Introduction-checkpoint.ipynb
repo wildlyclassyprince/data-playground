{
 "cells": [
  {
   "cell_type": "markdown",
   "metadata": {},
   "source": [
    "# Py-Mongo\n",
    "\n",
    "In this tutorial we will create a database then insert, read, update and delete some data from it.\n",
    "\n",
    "###  Installation\n",
    "\n",
    "Before installing `Py-Mongo`, we first need to install the `MongoDB`.\n",
    "\n",
    "We can do this in Ubuntu by running the following command:\n",
    "\n",
    "```bash\n",
    "sudo apt-get install mongodb\n",
    "```\n",
    "By default, we will be unable to use the `MongoDB` packages we just installed. To be able to use them, we will have to run the following commands:\n",
    "\n",
    "```bash\n",
    "sudo rm -rf /var/lib/mongodb/mongod.lock\n",
    "```\n",
    "\n",
    "Then we reset for our changes to take effect:\n",
    "```bash\n",
    "sudo mongod --repair\n",
    "```\n",
    "\n",
    "After which we restart the service:\n",
    "```bash\n",
    "sudo service mongodb start\n",
    "```\n",
    "\n",
    "We can check the status of the database:\n",
    "```bash\n",
    "sudo service mongodb status\n",
    "```\n",
    "\n",
    "We then proceed to install `pip`:\n",
    "```bash\n",
    "sudo apt-get install python-pip\n",
    "```\n",
    "\n",
    "And then install `Py-Mongo`:\n",
    "\n",
    "```bash\n",
    "pip install pymongo\n",
    "```\n",
    "\n",
    "***\n",
    "\n",
    "### What we'll need ..."
   ]
  },
  {
   "cell_type": "code",
   "execution_count": 1,
   "metadata": {},
   "outputs": [],
   "source": [
    "# Imports\n",
    "import random\n",
    "from pprint import pprint\n",
    "from datetime import datetime\n",
    "from pymongo import MongoClient"
   ]
  },
  {
   "cell_type": "markdown",
   "metadata": {},
   "source": [
    "### Connecting to the Database"
   ]
  },
  {
   "cell_type": "code",
   "execution_count": 2,
   "metadata": {},
   "outputs": [],
   "source": [
    "# Instantiating a client connection\n",
    "client = MongoClient()\n",
    "\n",
    "# Creating database object\n",
    "db = client.Transactions"
   ]
  },
  {
   "cell_type": "markdown",
   "metadata": {},
   "source": [
    "### Inserting\n",
    "\n",
    "We will define a simple function that will allow us to insert some data into our database."
   ]
  },
  {
   "cell_type": "code",
   "execution_count": 3,
   "metadata": {},
   "outputs": [],
   "source": [
    "# Function for generating random ID numbers\n",
    "def id_gen():\n",
    "    '''Generates random ID number.'''\n",
    "    start, end = 10**4, 10**5\n",
    "    return random.randint(start, end)\n",
    "\n",
    "# Function for inserting data\n",
    "def insert():\n",
    "    '''Inserts data into the database.'''\n",
    "    \n",
    "    try:\n",
    "        # Getting the data\n",
    "        iid = id_gen()\n",
    "        ttime = datetime.utcnow()\n",
    "        amount = int(input('Amount: '))\n",
    "        location = str(input('Location: '))\n",
    "        \n",
    "        # Inserting the data\n",
    "        db.Transactions.insert_one({\n",
    "            \"ID\": iid,\n",
    "            \"Time\": ttime,\n",
    "            \"Amount\": amount,\n",
    "            \"Location\": location\n",
    "        })\n",
    "        print('Data successfully inserted.\\n')\n",
    "        \n",
    "    except Exception as e:\n",
    "        print(str(e))"
   ]
  },
  {
   "cell_type": "markdown",
   "metadata": {},
   "source": [
    "The function we created allows us to enter an amount and the location. These are then attached with the current timestamp and a unique transaction ID is generated using a random number generator. Though we are not able to see it yet, `MongoDB` also attached an ID to our records and monotonically increases it with the increase in records."
   ]
  },
  {
   "cell_type": "code",
   "execution_count": 4,
   "metadata": {},
   "outputs": [
    {
     "name": "stdin",
     "output_type": "stream",
     "text": [
      "Amount:  2300\n",
      "Location:  Zanzibar\n"
     ]
    },
    {
     "name": "stdout",
     "output_type": "stream",
     "text": [
      "Data successfully inserted.\n",
      "\n"
     ]
    }
   ],
   "source": [
    "# Inserting data\n",
    "insert()"
   ]
  },
  {
   "cell_type": "markdown",
   "metadata": {},
   "source": [
    "***\n",
    "\n",
    "### Reading\n",
    "\n",
    "When we want to see what our database contains, we can read the data it contains."
   ]
  },
  {
   "cell_type": "code",
   "execution_count": 5,
   "metadata": {},
   "outputs": [],
   "source": [
    "# Function for reading all records in the database\n",
    "def read():\n",
    "    '''Reads data from the database.'''\n",
    "    try:\n",
    "        trans = db.Transactions.find()\n",
    "        print('\\nData from Transactions\\n')\n",
    "        for t in trans:\n",
    "            pprint(t)\n",
    "    except Exception as e:\n",
    "        print(str(e))"
   ]
  },
  {
   "cell_type": "code",
   "execution_count": 6,
   "metadata": {},
   "outputs": [
    {
     "name": "stdout",
     "output_type": "stream",
     "text": [
      "\n",
      "Data from Transactions\n",
      "\n",
      "{'Amount': 1500,\n",
      " 'ID': 50596,\n",
      " 'Location': 'Zimbabwe',\n",
      " 'Time': datetime.datetime(2018, 12, 23, 16, 31, 17, 523000),\n",
      " '_id': ObjectId('5c1fb3ea6d38047313215886')}\n",
      "{'Amount': 1000,\n",
      " 'ID': 81923,\n",
      " 'Location': 'South Africa',\n",
      " 'Time': datetime.datetime(2018, 12, 23, 16, 20, 52, 108000),\n",
      " '_id': ObjectId('5c1fb5f26d38047313215887')}\n",
      "{'Amount': 2300,\n",
      " 'ID': 92352,\n",
      " 'Location': 'Zanzibar',\n",
      " 'Time': datetime.datetime(2019, 1, 1, 19, 10, 36, 419000),\n",
      " '_id': ObjectId('5c2bbb396d38042332937a04')}\n"
     ]
    }
   ],
   "source": [
    "# Reading records\n",
    "read()"
   ]
  },
  {
   "cell_type": "markdown",
   "metadata": {},
   "source": [
    "From reading the data, we can see that there are five fields, though in our `insert` function we specified four. The fifth field in automatically generated by `MongoDB` as a unique ID for each record in the event that we insert a record without a unique identifier.\n",
    "\n",
    "***\n",
    "\n",
    "### Updating"
   ]
  },
  {
   "cell_type": "code",
   "execution_count": 7,
   "metadata": {},
   "outputs": [],
   "source": [
    "# Function for updating a record in the database\n",
    "def update():\n",
    "    '''Updates a record in the database.'''\n",
    "    try:\n",
    "        criteria = int(input('Enter the ID to update: '))\n",
    "        amount = int(input('Enter the amount to update to: '))\n",
    "        location = str(input('Enter the location to update to: '))\n",
    "        ttime = datetime.utcnow()\n",
    "        \n",
    "        # Update the record\n",
    "        db.Transactions.update_one(\n",
    "            {'ID': criteria},\n",
    "            {\n",
    "                '$set': {\n",
    "                    'Time': ttime,\n",
    "                    'Amount': amount,\n",
    "                    'Location': location\n",
    "                }\n",
    "            }\n",
    "            )\n",
    "        print('Record sucessfully updated.\\n')\n",
    "    except Exception as e:\n",
    "        print(str(e))"
   ]
  },
  {
   "cell_type": "code",
   "execution_count": 8,
   "metadata": {},
   "outputs": [
    {
     "name": "stdout",
     "output_type": "stream",
     "text": [
      "Enter the ID to update: 77405\n",
      "Enter the amount to update to: 1345\n",
      "Enter the location to update to: Ireland\n",
      "Record sucessfully updated.\n",
      "\n"
     ]
    }
   ],
   "source": [
    "# Updating\n",
    "update()"
   ]
  },
  {
   "cell_type": "code",
   "execution_count": 9,
   "metadata": {},
   "outputs": [
    {
     "name": "stdout",
     "output_type": "stream",
     "text": [
      "\n",
      "Data from Transactions\n",
      "\n",
      "{'Amount': 1500,\n",
      " 'ID': 50596,\n",
      " 'Location': 'Zimbabwe',\n",
      " 'Time': datetime.datetime(2018, 12, 23, 16, 31, 17, 523000),\n",
      " '_id': ObjectId('5c1fb3ea6d38047313215886')}\n",
      "{'Amount': 1000,\n",
      " 'ID': 81923,\n",
      " 'Location': 'South Africa',\n",
      " 'Time': datetime.datetime(2018, 12, 23, 16, 20, 52, 108000),\n",
      " '_id': ObjectId('5c1fb5f26d38047313215887')}\n",
      "{'Amount': 1345,\n",
      " 'ID': 77405,\n",
      " 'Location': 'Ireland',\n",
      " 'Time': datetime.datetime(2018, 12, 23, 16, 33, 38, 31000),\n",
      " '_id': ObjectId('5c1fb8bb6d38042455b0da0a')}\n"
     ]
    }
   ],
   "source": [
    "# Reading\n",
    "read()"
   ]
  },
  {
   "cell_type": "markdown",
   "metadata": {},
   "source": [
    "The `update_one` method allows us to update a records based on an identifier. In our case, we used the ID we generated using random numbers, though we could have easily opted for the one generated by `MongoDB`.\n",
    "\n",
    "***\n",
    "\n",
    "### Deleting"
   ]
  },
  {
   "cell_type": "code",
   "execution_count": 10,
   "metadata": {},
   "outputs": [],
   "source": [
    "# Function to delete a record from the database\n",
    "def delete():\n",
    "    '''Deletes a record from the database.'''\n",
    "    try:\n",
    "        criteria = int(input('Enter the ID for the record to be deleted: '))\n",
    "        db.Transactions.delete_many({'ID': criteria})\n",
    "        print('Record successfully deleted.\\n')\n",
    "    except Exception as e:\n",
    "        print(str(e))"
   ]
  },
  {
   "cell_type": "code",
   "execution_count": 11,
   "metadata": {},
   "outputs": [
    {
     "name": "stdout",
     "output_type": "stream",
     "text": [
      "Enter the ID for the record to be deleted: 77405\n",
      "Record successfully deleted.\n",
      "\n"
     ]
    }
   ],
   "source": [
    "# Deleting\n",
    "delete()"
   ]
  },
  {
   "cell_type": "code",
   "execution_count": 12,
   "metadata": {},
   "outputs": [
    {
     "name": "stdout",
     "output_type": "stream",
     "text": [
      "\n",
      "Data from Transactions\n",
      "\n",
      "{'Amount': 1500,\n",
      " 'ID': 50596,\n",
      " 'Location': 'Zimbabwe',\n",
      " 'Time': datetime.datetime(2018, 12, 23, 16, 31, 17, 523000),\n",
      " '_id': ObjectId('5c1fb3ea6d38047313215886')}\n",
      "{'Amount': 1000,\n",
      " 'ID': 81923,\n",
      " 'Location': 'South Africa',\n",
      " 'Time': datetime.datetime(2018, 12, 23, 16, 20, 52, 108000),\n",
      " '_id': ObjectId('5c1fb5f26d38047313215887')}\n"
     ]
    }
   ],
   "source": [
    "# Reading\n",
    "read()"
   ]
  },
  {
   "cell_type": "markdown",
   "metadata": {},
   "source": [
    "Based on a unique identifier, we are also able to delete a record from the database.\n",
    "\n",
    "***\n",
    "\n",
    "### Summary\n",
    "\n",
    "This tutorial was a gentle introduction to NoSQL databases and `MongoDB`. Though we were working with Python and `Py-Mongo`, there several other APIs available for interacting with `MongoDB` using a prefered programming language.\n",
    "\n",
    "#### Sources\n",
    "\n",
    "[1] https://api.mongodb.com/python/current/tutorial.html\n",
    "\n",
    "[2] https://codehandbook.org/pymongo-tutorial-crud-operation-mongodb/"
   ]
  }
 ],
 "metadata": {
  "kernelspec": {
   "display_name": "Python 3",
   "language": "python",
   "name": "python3"
  },
  "language_info": {
   "codemirror_mode": {
    "name": "ipython",
    "version": 3
   },
   "file_extension": ".py",
   "mimetype": "text/x-python",
   "name": "python",
   "nbconvert_exporter": "python",
   "pygments_lexer": "ipython3",
   "version": "3.7.0"
  },
  "toc": {
   "base_numbering": 1,
   "nav_menu": {},
   "number_sections": false,
   "sideBar": false,
   "skip_h1_title": false,
   "title_cell": "Table of Contents",
   "title_sidebar": "Contents",
   "toc_cell": false,
   "toc_position": {},
   "toc_section_display": false,
   "toc_window_display": false
  }
 },
 "nbformat": 4,
 "nbformat_minor": 2
}
