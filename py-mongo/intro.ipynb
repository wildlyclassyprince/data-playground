{
 "cells": [
  {
   "cell_type": "markdown",
   "metadata": {},
   "source": [
    "# Py-Mongo\n",
    "\n",
    "An introduction. In this tutorial we will create a database then insert, read, update and delete some data from it."
   ]
  },
  {
   "cell_type": "markdown",
   "metadata": {},
   "source": [
    "###  Installation\n",
    "\n",
    "To install Py-Mongo, we will use `pip`. We first need to ensure that it is installed, if not then we will install it:\n",
    "\n",
    "```bash\n",
    "sudo apt-get install python-pip\n",
    "```\n",
    "\n",
    "We will then install `Py-Mongo`:\n",
    "\n",
    "```bash\n",
    "pip install pymongo\n",
    "```"
   ]
  },
  {
   "cell_type": "markdown",
   "metadata": {},
   "source": [
    "### What we'll need ..."
   ]
  },
  {
   "cell_type": "code",
   "execution_count": 1,
   "metadata": {},
   "outputs": [],
   "source": [
    "# Imports\n",
    "import random\n",
    "from time import time\n",
    "from pymongo import MongoClient"
   ]
  },
  {
   "cell_type": "markdown",
   "metadata": {},
   "source": [
    "### Connecting to the Database"
   ]
  },
  {
   "cell_type": "code",
   "execution_count": 2,
   "metadata": {},
   "outputs": [],
   "source": [
    "# Instantiating a client connection\n",
    "client = MongoClient()\n",
    "\n",
    "# Creating database object\n",
    "db = client.Transactions"
   ]
  },
  {
   "cell_type": "markdown",
   "metadata": {},
   "source": [
    "### Inserting\n",
    "\n",
    "We will define a simple function that will allow us to insert some data into our database."
   ]
  },
  {
   "cell_type": "code",
   "execution_count": 3,
   "metadata": {},
   "outputs": [],
   "source": [
    "# Function for generating random ID numbers\n",
    "def id_gen():\n",
    "    '''Generates random ID number.'''\n",
    "    start, end = 10**4, 10**5\n",
    "    return random.randint(start, end)\n",
    "\n",
    "# Function for inserting data\n",
    "def insert_data():\n",
    "    '''Inserts data into the database.'''\n",
    "    \n",
    "    try:\n",
    "        # Getting the data\n",
    "        Id = id_gen()\n",
    "        Time = time()\n",
    "        Amount = int(input('Amount: '))\n",
    "        Location = str(input('Location: '))\n",
    "        \n",
    "        # Inserting the data\n",
    "        db.Transactions.insert_one({\n",
    "            \"ID\": Id,\n",
    "            \"Time\": Time,\n",
    "            \"Amount\": Amount,\n",
    "            \"Location\": Location\n",
    "        })\n",
    "        print('Data successfully inserted.\\n')\n",
    "        \n",
    "    except Exception as e:\n",
    "        print(str(e))"
   ]
  },
  {
   "cell_type": "markdown",
   "metadata": {},
   "source": [
    "### Reading"
   ]
  },
  {
   "cell_type": "markdown",
   "metadata": {},
   "source": [
    "### Updating"
   ]
  },
  {
   "cell_type": "markdown",
   "metadata": {},
   "source": [
    "### Deleting"
   ]
  },
  {
   "cell_type": "markdown",
   "metadata": {},
   "source": [
    "### Summary"
   ]
  },
  {
   "cell_type": "code",
   "execution_count": null,
   "metadata": {},
   "outputs": [],
   "source": []
  }
 ],
 "metadata": {
  "kernelspec": {
   "display_name": "Python 3",
   "language": "python",
   "name": "python3"
  },
  "language_info": {
   "codemirror_mode": {
    "name": "ipython",
    "version": 3
   },
   "file_extension": ".py",
   "mimetype": "text/x-python",
   "name": "python",
   "nbconvert_exporter": "python",
   "pygments_lexer": "ipython3",
   "version": "3.7.0"
  },
  "toc": {
   "base_numbering": 1,
   "nav_menu": {},
   "number_sections": false,
   "sideBar": false,
   "skip_h1_title": false,
   "title_cell": "Table of Contents",
   "title_sidebar": "Contents",
   "toc_cell": false,
   "toc_position": {},
   "toc_section_display": false,
   "toc_window_display": false
  }
 },
 "nbformat": 4,
 "nbformat_minor": 2
}
