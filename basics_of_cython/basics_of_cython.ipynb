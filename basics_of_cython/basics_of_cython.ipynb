{
  "cells": [
    {
      "cell_type": "markdown",
      "source": [
        "# The Basics of Cython\n",
        "\n",
        "#### This notebook is a tutorial on the fundamental basics of Cython.\n",
        "\n",
        "The most basic nature of Cython can be stated as: ___Cython is Python with C data types.___\n",
        "\n",
        "There are several features of Cython that we need to be aware of:\n",
        "\n",
        "1. ___Cython is Python:___ Almost any piece of Python code is also valid Cython code. \n",
        "\n",
        "2. The Cython compiler converts Python code into C code which makes equivalent calls ot the Python/C API (*this is partially how __Cython is Python__*).\n",
        "\n",
        "3. Conversions of Python values and C values occurs automatically wherever possible. In addition to this, ___error checking___ of Python operations and ___reference counting___ are also done automatically.\n",
        "\n",
        "4. Python's full power of exception handling is available in Cython, i.e., the `try`-except and `try`-finally statements, all in the midst of handling C data.\n",
        "\n",
        "So, what we can expect is that we will be able to write our usual Python code but this time we can add an extra touch of flair to it with C data types. This will make our code run faster, especially when we are working with large datasets.\n",
        "\n",
        "Without wasting too much time, let's get cracking!\n",
        "\n",
        "***\n",
        "\n",
        "## Our first progam: \"Hello World!\"\n",
        "\n\n",
        "We'll start out by attempting to print `\"Hello World!\"`. To do this, we need several things:\n",
        "\n",
        "1. the source file with the extension `.pyx`\n",
        "2. the setup or compile file - an equivalent to 'makefile'\n",
        "\n",
        "Our source file will have the following code:\n",
        "\n",
        "```python\n",
        "print('Hello World!')\n",
        "```\n",
        "\n",
        "while our setup file will have the following:\n",
        "\n",
        "```python\n",
        "from distutils.core import setup\n",
        "from Cython.Build import cythonize\n",
        "\n",
        "setup(ext_modules=cythonize('hello_world.pyx'))\n",
        "```\n",
        "\n",
        "We'll then use the following command to compile our code:\n",
        "\n",
        "```bash\n",
        "python3 setup.py build_ext --place\n",
        "```\n",
        "\nwhich will result in the creation of the `hello_world.so` file in unix or `hello_world.pyd` in Windows."
      ],
      "metadata": {}
    },
    {
      "cell_type": "code",
      "source": [
        "# Our 'hello_world.pyx' file - this is the file with the actual source\n",
        "!touch hello_world.pyx\n",
        "!echo \"print('Hello World!')\" >> hello_world.pyx\n",
        "\n",
        "# Our 'setup.py' file - this is similar to a makefile but it's for Python\n",
        "!touch setup.py\n",
        "!echo \"from distutils.core import setup\" >> setup.py\n",
        "!echo \"from Cython.Build import cythonize\" >> setup.py\n",
        "!echo \"setup(ext_modules=cythonize('hello_world.pyx'))\" >> setup.py"
      ],
      "outputs": [],
      "execution_count": 1,
      "metadata": {
        "collapsed": false,
        "outputHidden": false,
        "inputHidden": false
      }
    },
    {
      "cell_type": "code",
      "source": [
        "# Now we can build the Cython file\n",
        "!python3 setup.py build_ext --inplace\n",
        "!ls"
      ],
      "outputs": [
        {
          "output_type": "stream",
          "name": "stdout",
          "text": [
            "running build_ext\n",
            "\u001b[31mbasics_of_cython.ipynb\u001b[m\u001b[m            \u001b[31mhello_world.cpython-36m-darwin.so\u001b[m\u001b[m\n",
            "\u001b[30m\u001b[43mbuild\u001b[m\u001b[m                             \u001b[31mhello_world.pyx\u001b[m\u001b[m\n",
            "\u001b[31mhello_world.c\u001b[m\u001b[m                     \u001b[31msetup.py\u001b[m\u001b[m\n"
          ]
        }
      ],
      "execution_count": 4,
      "metadata": {
        "collapsed": false,
        "outputHidden": false,
        "inputHidden": false
      }
    },
    {
      "cell_type": "code",
      "source": [
        "# Importing the 'hello_world.pyx' file - just like a regular Python module\n",
        "import hello_world"
      ],
      "outputs": [
        {
          "output_type": "stream",
          "name": "stdout",
          "text": [
            "Hello World!\n"
          ]
        }
      ],
      "execution_count": 3,
      "metadata": {
        "collapsed": false,
        "outputHidden": false,
        "inputHidden": false
      }
    },
    {
      "cell_type": "markdown",
      "source": [
        "Voila! We have just written and built our first Cython program."
      ],
      "metadata": {}
    },
    {
      "cell_type": "code",
      "source": [],
      "outputs": [],
      "execution_count": null,
      "metadata": {
        "collapsed": false,
        "outputHidden": false,
        "inputHidden": false
      }
    }
  ],
  "metadata": {
    "kernel_info": {
      "name": "python3"
    },
    "language_info": {
      "name": "python",
      "version": "3.6.5",
      "mimetype": "text/x-python",
      "codemirror_mode": {
        "name": "ipython",
        "version": 3
      },
      "pygments_lexer": "ipython3",
      "nbconvert_exporter": "python",
      "file_extension": ".py"
    },
    "kernelspec": {
      "name": "python3",
      "language": "python",
      "display_name": "Python 3"
    },
    "nteract": {
      "version": "0.10.0"
    }
  },
  "nbformat": 4,
  "nbformat_minor": 4
}