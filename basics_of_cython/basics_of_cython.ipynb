{
  "cells": [
    {
      "cell_type": "markdown",
      "source": [
        "# The Basics of Cython\n",
        "\n",
        "#### This notebook is a tutorial on the fundamental basics of Cython.\n",
        "\n",
        "The most basic nature of Cython can be stated as: ___Cython is Python with C data types.___\n",
        "\n",
        "There are several features of Cython that we need to be aware of:\n",
        "1. ___Cython is Python:___ Almost any piece of Python code is also valid Cython code. \n",
        "\n",
        "2. The Cython compiler converts Python code into C code which makes equivalent calls ot the Python/C API (*this is partially how __Cython is Python__*).\n",
        "\n",
        "3. Conversions of Python values and C values occurs automatically wherever possible. In addition to this, ___error checking___ of Python operations and ___reference counting___ are also done automatically.\n",
        "\n4. Python's full power of exception handling is available in Cython, i.e., the `try`-except and `try`-finally statements."
      ],
      "metadata": {}
    },
    {
      "cell_type": "code",
      "source": [],
      "outputs": [],
      "execution_count": null,
      "metadata": {
        "collapsed": false,
        "outputHidden": false,
        "inputHidden": false
      }
    }
  ],
  "metadata": {
    "kernel_info": {
      "name": "python3"
    },
    "language_info": {
      "name": "python",
      "version": "3.6.5",
      "mimetype": "text/x-python",
      "codemirror_mode": {
        "name": "ipython",
        "version": 3
      },
      "pygments_lexer": "ipython3",
      "nbconvert_exporter": "python",
      "file_extension": ".py"
    },
    "kernelspec": {
      "name": "python3",
      "language": "python",
      "display_name": "Python 3"
    },
    "nteract": {
      "version": "0.10.0"
    }
  },
  "nbformat": 4,
  "nbformat_minor": 4
}