{
  "cells": [
    {
      "cell_type": "markdown",
      "source": [
        "# The Basics of Cython\n",
        "\n",
        "#### This notebook is a tutorial on the fundamental basics of Cython.\n",
        "\n",
        "The most basic nature of Cython can be stated as: ___Cython is Python with C data types.___\n",
        "\n",
        "There are several features of Cython that we need to be aware of:\n",
        "\n",
        "1. ___Cython is Python:___ Almost any piece of Python code is also valid Cython code. \n",
        "\n",
        "2. The Cython compiler converts Python code into C code which makes equivalent calls ot the Python/C API (*this is partially how __Cython is Python__*).\n",
        "\n",
        "3. Conversions of Python values and C values occurs automatically wherever possible. In addition to this, ___error checking___ of Python operations and ___reference counting___ are also done automatically.\n",
        "\n",
        "4. Python's full power of exception handling is available in Cython, i.e., the `try`-except and `try`-finally statements, all in the midst of handling C data.\n",
        "\n",
        "So, what we can expect is that we will be able to write our usual Python code but this time we can add an extra touch of flair to it with C data types. This will make our code run faster, especially when we are working with large datasets.\n",
        "\n",
        "Without wasting too much time, let's get cracking!\n",
        "\n",
        "***\n",
        "\n",
        "## 1. Our first progam: \"Hello World!\"\n",
        "\n\n",
        "We'll start out by attempting to print `\"Hello World!\"`. To do this, we need several things:\n",
        "\n",
        "1. the source file with the extension `.pyx`\n",
        "2. the setup or compile file - an equivalent to 'makefile'\n",
        "\n",
        "Our source file will have the following code:\n",
        "\n",
        "```python\n",
        "print('Hello World!')\n",
        "```\n",
        "\n",
        "while our setup file will have the following:\n",
        "\n",
        "```python\n",
        "# Importing\n",
        "from distutils.core import setup\n",
        "from Cython.Build import cythonize\n",
        "# Setup\n",
        "setup(ext_modules=cythonize('hello_world.pyx'))\n",
        "```\n",
        "\n",
        "We'll then use the following command to compile our code:\n",
        "\n",
        "```bash\n",
        "python3 setup.py build_ext --place\n",
        "```\n",
        "\nwhich will result in the creation of the `hello_world.so` file in unix or `hello_world.pyd` in Windows."
      ],
      "metadata": {}
    },
    {
      "cell_type": "code",
      "source": [
        "# Our 'hello_world.pyx' file - this is the file with the actual source\n",
        "!touch hello_world.pyx\n",
        "!echo \"print('Hello World!')\" >> hello_world.pyx\n",
        "\n",
        "# Our 'setup.py' file - this is similar to a makefile but it's for Python\n",
        "!touch setup.py\n",
        "!echo \"from distutils.core import setup\" >> setup.py\n",
        "!echo \"from Cython.Build import cythonize\" >> setup.py\n",
        "!echo \"setup(ext_modules=cythonize('hello_world.pyx'))\" >> setup.py"
      ],
      "outputs": [],
      "execution_count": 1,
      "metadata": {
        "collapsed": false,
        "outputHidden": false,
        "inputHidden": false
      }
    },
    {
      "cell_type": "code",
      "source": [
        "# Now we can build the Cython file\n",
        "!python3 setup.py build_ext --inplace\n",
        "!ls"
      ],
      "outputs": [
        {
          "output_type": "stream",
          "name": "stdout",
          "text": [
            "running build_ext\n",
            "\u001b[31mbasics_of_cython.ipynb\u001b[m\u001b[m            \u001b[31mhello_world.cpython-36m-darwin.so\u001b[m\u001b[m\n",
            "\u001b[30m\u001b[43mbuild\u001b[m\u001b[m                             \u001b[31mhello_world.pyx\u001b[m\u001b[m\n",
            "\u001b[31mhello_world.c\u001b[m\u001b[m                     \u001b[31msetup.py\u001b[m\u001b[m\n"
          ]
        }
      ],
      "execution_count": 4,
      "metadata": {
        "collapsed": false,
        "outputHidden": false,
        "inputHidden": false
      }
    },
    {
      "cell_type": "code",
      "source": [
        "# Importing the 'hello_world.pyx' file - just like a regular Python module\n",
        "import hello_world"
      ],
      "outputs": [
        {
          "output_type": "stream",
          "name": "stdout",
          "text": [
            "Hello World!\n"
          ]
        }
      ],
      "execution_count": 3,
      "metadata": {
        "collapsed": false,
        "outputHidden": false,
        "inputHidden": false
      }
    },
    {
      "cell_type": "markdown",
      "source": [
        "Voila! We have just written and built our first Cython program. However, with this program, we have barely scratched the surface of Cython or from writing any useful code.\n",
        "\n",
        "***\n",
        "\n",
        "### 1.1. `pyximport` : Cython Compilation for Developers\n",
        "\n",
        "If the module we are building does not require any extra C libraries or a special approach to the setup, we can simply use the `pyximport` module to load `.pyx` files directly from import. This can be done without having to run out `setup.py` file each time we change our code.\n",
        "\nWe'll write a new 'hello world' program but with a different name to test this out."
      ],
      "metadata": {}
    },
    {
      "cell_type": "code",
      "source": [
        "# Our 'hello_world.pyx' file - this is the file with the actual source\n",
        "!touch hello_world_2.pyx\n",
        "!echo \"print('Hello World!')\" >> hello_world_2.pyx"
      ],
      "outputs": [],
      "execution_count": 8,
      "metadata": {
        "collapsed": false,
        "outputHidden": false,
        "inputHidden": false
      }
    },
    {
      "cell_type": "code",
      "source": [
        "# Importing ...\n",
        "import pyximport\n",
        "\n",
        "# Initialization ...\n",
        "pyximport.install()\n",
        "\n",
        "# Our program\n",
        "import hello_world_2"
      ],
      "outputs": [
        {
          "output_type": "stream",
          "name": "stdout",
          "text": [
            "Hello World!\n"
          ]
        }
      ],
      "execution_count": 9,
      "metadata": {
        "collapsed": false,
        "outputHidden": false,
        "inputHidden": false
      }
    },
    {
      "cell_type": "markdown",
      "source": [
        "And that's all we need to do with `pyximport`. It simplifies the whole process of code compilation but we maintain the same Python code we already know how to write.\n",
        "\n",
        "***\n",
        "\n### 1.2. Fibonacci Fun"
      ],
      "metadata": {}
    },
    {
      "cell_type": "code",
      "source": [
        "# Our fibonacci file\n",
        "!touch fibonacci.pyx\n",
        "!echo  \"def fib(n):\\n\\t'''Print the Fibonacci series up to n.'''\\n\\ta,b =0, 1\\n\\twhile b<n:\\n\\t\\tprint(b)\\n\\t\\ta,b=b,a+b\" >> fibonacci.pyx\n",
        "\n",
        "# The setup ...\n",
        "!touch setup_2.py\n",
        "!echo \"from distutils.core import setup\" >> setup_2.py\n",
        "!echo \"from Cython.Build import cythonize\" >> setup_2.py\n",
        "!echo \"setup(ext_modules=cythonize('fibonacci.pyx'))\" >> setup_2.py"
      ],
      "outputs": [],
      "execution_count": 15,
      "metadata": {
        "collapsed": false,
        "outputHidden": false,
        "inputHidden": false
      }
    },
    {
      "cell_type": "code",
      "source": [
        "# Building ...\n",
        "!python3 setup_2.py build_ext --inplace\n",
        "!ls"
      ],
      "outputs": [
        {
          "output_type": "stream",
          "name": "stdout",
          "text": [
            "running build_ext\n",
            "\u001b[31mbasics_of_cython.ipynb\u001b[m\u001b[m            \u001b[31mhello_world.cpython-36m-darwin.so\u001b[m\u001b[m\n",
            "\u001b[30m\u001b[43mbuild\u001b[m\u001b[m                             \u001b[31mhello_world.pyx\u001b[m\u001b[m\n",
            "\u001b[31mfibonacci.c\u001b[m\u001b[m                       \u001b[31mhello_world_2.pyx\u001b[m\u001b[m\n",
            "\u001b[31mfibonacci.cpython-36m-darwin.so\u001b[m\u001b[m   \u001b[31msetup.py\u001b[m\u001b[m\n",
            "\u001b[31mfibonacci.pyx\u001b[m\u001b[m                     \u001b[31msetup_2.py\u001b[m\u001b[m\n",
            "\u001b[31mhello_world.c\u001b[m\u001b[m\n"
          ]
        }
      ],
      "execution_count": 17,
      "metadata": {
        "collapsed": false,
        "outputHidden": false,
        "inputHidden": false
      }
    },
    {
      "cell_type": "code",
      "source": [
        "# Importing ...\n",
        "import fibonacci\n",
        "fibonacci.fib(50)"
      ],
      "outputs": [
        {
          "output_type": "stream",
          "name": "stdout",
          "text": [
            "1\n",
            "1\n",
            "2\n",
            "3\n",
            "5\n",
            "8\n",
            "13\n",
            "21\n",
            "34\n"
          ]
        }
      ],
      "execution_count": 38,
      "metadata": {
        "collapsed": false,
        "outputHidden": false,
        "inputHidden": false
      }
    },
    {
      "cell_type": "markdown",
      "source": [
        "***\n",
        "\n### 1.3. Primes"
      ],
      "metadata": {}
    },
    {
      "cell_type": "code",
      "source": [
        "# Primes ...\n",
        "!touch primes.pyx\n",
        "!echo \"def primes(int kmax):\\n\\tcdef int n, k, i\\n\\tcdef int p[1000]\\n\\tresult = list()\\n\\tif (kmax > 1000):\\n\\t\\tkmax = 1000\\n\\tk, n = 0, 2\\n\\twhile (k < kmax):\\n\\t\\ti = 0\\n\\t\\twhile (i < k) and (n % p[i] != 0):\\n\\t\\t\\ti = i + 1\\n\\t\\tif (i == k):\\n\\t\\t\\tp[k] = n\\n\\t\\t\\tk = k + 1\\n\\t\\t\\tresult.append(n)\\n\\t\\tn = n + 1\\n\\treturn result\" >> primes.pyx\n",
        "\n",
        "# The setup ...\n",
        "!touch setup_3.py\n",
        "!echo \"from distutils.core import setup\" >> setup_3.py\n",
        "!echo \"from Cython.Build import cythonize\" >> setup_3.py\n",
        "!echo \"setup(ext_modules=cythonize('primes.pyx'))\" >> setup_3.py"
      ],
      "outputs": [],
      "execution_count": 32,
      "metadata": {
        "collapsed": false,
        "outputHidden": false,
        "inputHidden": false
      }
    },
    {
      "cell_type": "code",
      "source": [
        "# Building ...\n",
        "!python3 setup_3.py build_ext --inplace\n",
        "!ls"
      ],
      "outputs": [
        {
          "output_type": "stream",
          "name": "stdout",
          "text": [
            "running build_ext\n",
            "\u001b[31mbasics_of_cython.ipynb\u001b[m\u001b[m            \u001b[31mhello_world_2.pyx\u001b[m\u001b[m\n",
            "\u001b[30m\u001b[43mbuild\u001b[m\u001b[m                             \u001b[31mprimes.c\u001b[m\u001b[m\n",
            "\u001b[31mfibonacci.c\u001b[m\u001b[m                       \u001b[31mprimes.cpython-36m-darwin.so\u001b[m\u001b[m\n",
            "\u001b[31mfibonacci.cpython-36m-darwin.so\u001b[m\u001b[m   \u001b[31mprimes.pyx\u001b[m\u001b[m\n",
            "\u001b[31mfibonacci.pyx\u001b[m\u001b[m                     \u001b[31msetup.py\u001b[m\u001b[m\n",
            "\u001b[31mhello_world.c\u001b[m\u001b[m                     \u001b[31msetup_2.py\u001b[m\u001b[m\n",
            "\u001b[31mhello_world.cpython-36m-darwin.so\u001b[m\u001b[m \u001b[31msetup_3.py\u001b[m\u001b[m\n",
            "\u001b[31mhello_world.pyx\u001b[m\u001b[m\n"
          ]
        }
      ],
      "execution_count": 34,
      "metadata": {
        "collapsed": false,
        "outputHidden": false,
        "inputHidden": false
      }
    },
    {
      "cell_type": "code",
      "source": [
        "# Importing ...\n",
        "import primes\n",
        "primes.primes(10)"
      ],
      "outputs": [
        {
          "output_type": "execute_result",
          "execution_count": 35,
          "data": {
            "text/plain": [
              "[2, 3, 5, 7, 11, 13, 17, 19, 23, 29]"
            ]
          },
          "metadata": {}
        }
      ],
      "execution_count": 35,
      "metadata": {
        "collapsed": false,
        "outputHidden": false,
        "inputHidden": false
      }
    },
    {
      "cell_type": "markdown",
      "source": [
        "## 2. Calling C Functions\n",
        "\n",
        "We'll now take a short excursion into what we need to know in order to call C functions from Cython code. In this part of the tutorial, we will write our code and demonstrate from the notebook.\n",
        "\n",
        "We'll start by taking a look at a function in the standard C library. This does not add any dependencies to our code, and has the additional advantage that Cython already defines many such function for us. We only need to import them.\n",
        "\n",
        "For example, let's say we want to low-level way of parsing a number form `char*` value. We could use the `atoi()` function as defined by the `stdlib.h` header file.\n",
        "\n",
        "```python\n",
        "# Importing the external module into the Jupyter Notebook - we only need to do this once\n",
        "%load_ext Cython\n",
        "\n",
        "%%cython\n",
        "from libc.stdlib cimoprt atoi\n",
        "\n",
        "cdef parse_charptr_to_py_int(char* s):\n",
        "    assert s is not NULL, \"byte string value is NULL\"\n",
        "    return atoi(s)      # NB: 'atoi()' has no error detection!\n",
        "```\n",
        "\n",
        "**NB:** We can find a full list of `cimport` files in `Cython/Includes/` stored in `.pxd` files. This is the standard way to provide Cython declarations that can be shared across modules.\n",
        "\n",
        "Cython also has a complete set of declarations for CPython's C-API. For example, to test at C compilation time which CPython version of our code is being compiled, we can do this:\n",
        "\n",
        "```python\n",
        "from cpython.version cimport PY_VERSION_HEX\n",
        "\n",
        "print(PY_VERSION_HEX >= 0x030200F0)\n",
        "```\n",
        "\n",
        "Cython also provides declarations for the C math library:\n",
        "\n",
        "```python\n",
        "from libc.math cimport sin\n",
        "\n",
        "cdef double f (double x):\n",
        "    return sin(x*x)\n",
        "```\n",
        "\n",
        "***\n",
        "\n",
        "### 2.1. Dynamic Linking\n",
        "\n",
        "The `libc` math library is special because it is not linked by default to any system. In addition to `cimport`ing our declarations, we must configure our build sytem to link against the shared library `m`. For `distutils`, it is enough to add it to the `libraries` parameter of the `Extension()` setup:\n",
        "\n",
        "```python\n",
        "from distutils.core import setup\n",
        "from distutils.extension import Extension\n",
        "from Cython.Build import cythonize\n",
        "\n",
        "ext_modules = [\n",
        "    Extension(\"demo\",\n",
        "              sources=[\"demo.pyx\"],\n",
        "              libraries=[\"m\"] # Unix-like specific\n",
        "             )\n",
        "]\n",
        "setup(\n",
        "    name=\"Demos\",\n",
        "    ext_modules=cythonize(ext_modules)\n",
        ")\n",
        "```\n",
        "\n",
        "***\n",
        "\n",
        "### 2.2. External Declarations\n",
        "\n",
        "If we want to access C code for which Cython does not provide a ready to use declaration, we must declare them ourselves. For example, our previous `sin()` function can be declared as follows:\n",
        "\n",
        "```python\n",
        "cdef extern from \"math.h\":\n",
        "    double sin(double x)\n",
        "```\n",
        "\n",
        "This declares the `sin()` function in a way that makes it available to Cython code and instructs Cython to generate C code that includes the `math.h` header file. The C compiler will see the original declaration in `math.h` at compile time, but Cython does not parse `math.h` and requires a seperate definition.\n",
        "\n",
        "This is true for any C library as long as the module the Cython generates is properly linked against the shared or static library.\n",
        "\n",
        "**NB:** We can easily export an external C function from our Cython module by declaring it as `cpdef`. This generates a Python wrapper for it and adds it to the module dict. For example:\n",
        "\n",
        "```python\n",
        "\"\"\"\n",
        ">>> sin(0)\n",
        "0.0\n",
        "\"\"\"\n",
        "cdef extern from \"math.h\":\n",
        "    cpdef double sin(double x)\n",
        "```\n",
        "\n",
        "We get the same result when this declaration appears in the `.pxd` file that belongs to the Cython module (i.e., that has the same name). This allows the C declarations to be reused in other Cython modules, while still providing an automatically generated Python wrapper in this specific module.\n",
        "\n",
        "***\n",
        "\n",
        "### 2.3. Naming Parameters\n",
        "\n",
        "Both C and Cython support signature declarations without parameter names:\n",
        "\n",
        "```python\n",
        "cdef extern from \"string.h\":\n",
        "    char* strstr(const char*, const char*)\n",
        "```\n",
        "\n",
        "However, this prevents Cython code from calling it with keyword arguments. It is therefore preferable to write the declaration like this instead:\n",
        "\n",
        "```python\n",
        "cdef extern from \"string.h\":\n",
        "    char* strstr(const char *haystack, const char *needle)\n",
        "```\n",
        "\n",
        "We can now make it clear which of the two arguments does specifically in our call, thus avoiding any ambiguities and often making our code more readable:\n",
        "\n",
        "```python\n",
        "cdef char* data = \"hfvackfagbcffcschvxcdfgccbcfhvfcsnfxjh\"\n",
        "\n",
        "pos = strstr(needle='akd', haystack=data)\n",
        "print(pos != NULL)\n",
        "```\n",
        "\n",
        "**NB:** changing existing parameter names later is a backwards incompatibility API modification, just as for Python code. Thus, if we provide our own declarations for external C or C++ functions, it is usually worth the additional bit of effort to choose the names of their arguments well.\n",
        "\n***"
      ],
      "metadata": {}
    }
  ],
  "metadata": {
    "kernel_info": {
      "name": "python3"
    },
    "language_info": {
      "name": "python",
      "version": "3.6.5",
      "mimetype": "text/x-python",
      "codemirror_mode": {
        "name": "ipython",
        "version": 3
      },
      "pygments_lexer": "ipython3",
      "nbconvert_exporter": "python",
      "file_extension": ".py"
    },
    "kernelspec": {
      "name": "python3",
      "language": "python",
      "display_name": "Python 3"
    },
    "nteract": {
      "version": "0.10.0"
    }
  },
  "nbformat": 4,
  "nbformat_minor": 4
}