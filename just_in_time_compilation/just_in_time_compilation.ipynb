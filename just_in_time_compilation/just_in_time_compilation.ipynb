{
  "cells": [
    {
      "cell_type": "markdown",
      "source": [
        "# Just-in-Time Compiling\n",
        "\n",
        "Numba's central feature is the 'numba.jit()' decoration. Using this decoration, is possible to mark a function for optimization by Numba's JIT compiler. Various invocations models trigger differing compilation options and behaviors.\n",
        "\n\n",
        "### Python Decorators\n",
        "\n",
        "Decorators are a way to uniformly modify functions in a particular way. You can think of them as functions that take functions as input and produce a function as output. See the Python reference documentation for a detailed discussion.\n",
        "\n",
        "A function definition may be wrapped by one or more decorator expressions. Decorator expressions are evaluated when the function is defined, in the scope that contains the function definition. The result must be callable, which is invoked with the function object as the only argument. The returned value is bound to the function name instead of the function object. Multiple decorators are applied in nested fashion.\n",
        "\nLet's see Numba in action. The following is a Python implementation of bubblesort for NumPy arrays."
      ],
      "metadata": {}
    },
    {
      "cell_type": "code",
      "source": [
        "def bubblesort(X):\n",
        "    N = len(X)\n",
        "    for end in range(N, 1, -1):\n",
        "        for i in range(end - 1):\n",
        "            cur = X[i]\n",
        "            if cur > X[i + 1]:\n",
        "                tmp = X[i]\n",
        "                X[i] = X[i + 1]\n",
        "                X[i + 1] = tmp"
      ],
      "outputs": [],
      "execution_count": 1,
      "metadata": {
        "collapsed": false,
        "outputHidden": false,
        "inputHidden": false
      }
    },
    {
      "cell_type": "markdown",
      "source": [
        "First, we'll create an array of sorted values and randomly shuffle them."
      ],
      "metadata": {}
    },
    {
      "cell_type": "code",
      "source": [
        "import numpy as np\n",
        "\n",
        "original = np.arange(.0, 10., .01, dtype='f4')\n",
        "shuffled = original.copy()\n",
        "np.random.shuffle(shuffled)"
      ],
      "outputs": [],
      "execution_count": 2,
      "metadata": {
        "collapsed": false,
        "outputHidden": false,
        "inputHidden": false
      }
    },
    {
      "cell_type": "markdown",
      "source": [
        "Next, create a copy and perform a bubble sort on the copy."
      ],
      "metadata": {}
    },
    {
      "cell_type": "code",
      "source": [
        "sorted_copy = shuffled.copy()\n",
        "bubblesort(sorted_copy)\n",
        "print(np.array_equal(sorted_copy, original))"
      ],
      "outputs": [
        {
          "output_type": "stream",
          "name": "stdout",
          "text": [
            "True\n"
          ]
        }
      ],
      "execution_count": 3,
      "metadata": {
        "collapsed": false,
        "outputHidden": false,
        "inputHidden": false
      }
    },
    {
      "cell_type": "code",
      "source": [
        "# Timing the execution.\n",
        "# NOTE: we need to copy the array so we sort a random array each time as sorting an already sorted array is faster so would distort timing.\n",
        "%timeit sorted_copy[:] = shuffled[:]; bubblesort(sorted_copy)"
      ],
      "outputs": [
        {
          "output_type": "stream",
          "name": "stdout",
          "text": [
            "231 ms ± 3.52 ms per loop (mean ± std. dev. of 7 runs, 1 loop each)\n"
          ]
        }
      ],
      "execution_count": 5,
      "metadata": {
        "collapsed": false,
        "outputHidden": false,
        "inputHidden": false
      }
    },
    {
      "cell_type": "markdown",
      "source": [
        "Now we know the speed of the Python implementation. The recommended was to use the '@jit' decorator is to let Numba decide when and how to optimize, so we simply add the decorator to the function:"
      ],
      "metadata": {}
    },
    {
      "cell_type": "code",
      "source": [
        "from numba import jit\n",
        "\n",
        "@jit \n",
        "def bubblesort(X):\n",
        "    N = len(X)\n",
        "    for end in range(N, 1, -1):\n",
        "        for i in range(end - 1):\n",
        "            cur = X[i]\n",
        "            if cur > X[i + 1]:\n",
        "                tmp = X[i]\n",
        "                X[i] = X[i + 1]\n",
        "                X[i + 1] = tmp"
      ],
      "outputs": [],
      "execution_count": 7,
      "metadata": {
        "collapsed": false,
        "outputHidden": false,
        "inputHidden": false
      }
    },
    {
      "cell_type": "code",
      "source": [
        "%timeit sorted_copy[:] = shuffled[:]; bubblesort(sorted_copy)"
      ],
      "outputs": [
        {
          "output_type": "stream",
          "name": "stdout",
          "text": [
            "1.45 ms ± 37.2 µs per loop (mean ± std. dev. of 7 runs, 1000 loops each)\n"
          ]
        }
      ],
      "execution_count": 8,
      "metadata": {
        "collapsed": false,
        "outputHidden": false,
        "inputHidden": false
      }
    },
    {
      "cell_type": "markdown",
      "source": [
        "Using the decorator in this way will defer compilation until the first function execution, so the first execution will be significantly slower.\n",
        "\nNumba will infer the argument types at call time, and generate optimized code based on this information. Numba will also be able to compile seperate specializations depending on the input types."
      ],
      "metadata": {
        "collapsed": false,
        "outputHidden": false,
        "inputHidden": false
      }
    },
    {
      "cell_type": "markdown",
      "source": [
        "# Function Signitures\n",
        "\n",
        "Questions:\n",
        "> Is it possible to use function type information to improve performance with Numba?\n",
        "\n",
        "Objectives:\n",
        "> Learn how to specify function signitures.\n",
        "> Learn the different function signiture notations.\n",
        "\n\nIt is also possible to specify the signiture of the Numba function. A function signiture describes the types of the arguments and the return type of the function. This can produce slightly faster code as the compiler does not need to infer the types. However, the function is no longer able to accept other types."
      ],
      "metadata": {}
    },
    {
      "cell_type": "code",
      "source": [
        "from numba import jit, int32, float64\n",
        "\n",
        "@jit(float64(int32, int32))\n",
        "def f(x, y):\n",
        "    return (x + y)/3.14"
      ],
      "outputs": [],
      "execution_count": 9,
      "metadata": {}
    },
    {
      "cell_type": "markdown",
      "source": [
        "In this example, 'float64(int32, int32)' is the function’s signature specifying a function that takes two 32-bit integer arguments and returns a double precision float. Numba provides a shorthand notation, so the same signature can be specified as 'f8(i4, i4)'.\n",
        "\n",
        "The specialization will be compiled by the '@jit' decorator, and no other specialization will be allowed. This is useful if you want fine-grained control over types chosen by the compiler (for example, to use single-precision floats).\n",
        "\n",
        "If you omit the return type, e.g. by writing '(int32, int32)' instead of 'float64(int32, int32)', Numba will try to infer it for you. Function signatures can also be strings, and you can pass several of them as a list; see the 'numba.jit()' documentation for more details.\n",
        "\nOf course, the compiled function gives the expected results:"
      ],
      "metadata": {
        "collapsed": false,
        "outputHidden": false,
        "inputHidden": false
      }
    },
    {
      "cell_type": "code",
      "source": [
        "f(1, 3)"
      ],
      "outputs": [
        {
          "output_type": "execute_result",
          "execution_count": 11,
          "data": {
            "text/plain": [
              "1.2738853503184713"
            ]
          },
          "metadata": {}
        }
      ],
      "execution_count": 11,
      "metadata": {
        "collapsed": false,
        "outputHidden": false,
        "inputHidden": false
      }
    },
    {
      "cell_type": "code",
      "source": [
        "# Trying the short version\n",
        "from numba import jit, f8, i4\n",
        "\n",
        "@jit(f8(i4, i4))\n",
        "def f(x, y):\n",
        "    return (x + y)/3.14"
      ],
      "outputs": [],
      "execution_count": 13,
      "metadata": {
        "collapsed": false,
        "outputHidden": false,
        "inputHidden": false
      }
    },
    {
      "cell_type": "code",
      "source": [
        "f(1, 3)"
      ],
      "outputs": [
        {
          "output_type": "execute_result",
          "execution_count": 14,
          "data": {
            "text/plain": [
              "1.2738853503184713"
            ]
          },
          "metadata": {}
        }
      ],
      "execution_count": 14,
      "metadata": {
        "collapsed": false,
        "outputHidden": false,
        "inputHidden": false
      }
    },
    {
      "cell_type": "code",
      "source": [
        "# The bubblesort function\n",
        "from numba import jit, i4\n",
        "\n",
        "@jit('void(i4)')\n",
        "def bubblesort(X):\n",
        "    N = len(X)\n",
        "    for end in range(N, 1, -1):\n",
        "        for i in range(end - 1):\n",
        "            cur = X[i]\n",
        "            if cur > X[i + 1]:\n",
        "                tmp = X[i]\n",
        "                X[i] = X[i + 1]\n",
        "                X[i + 1] = tmp"
      ],
      "outputs": [],
      "execution_count": 23,
      "metadata": {
        "collapsed": false,
        "outputHidden": false,
        "inputHidden": false
      }
    },
    {
      "cell_type": "code",
      "source": [
        "%timeit sorted_copy[:] = shuffled[:]; bubblesort(sorted_copy)"
      ],
      "outputs": [
        {
          "output_type": "stream",
          "name": "stdout",
          "text": [
            "1.42 ms ± 14 µs per loop (mean ± std. dev. of 7 runs, 1000 loops each)\n"
          ]
        }
      ],
      "execution_count": 24,
      "metadata": {
        "collapsed": false,
        "outputHidden": false,
        "inputHidden": false
      }
    },
    {
      "cell_type": "markdown",
      "source": [
        "### Numba Functions\n",
        "\n",
        "***Calling other functions***\n",
        "\nNumba functions can call other Numba functions. Of course, both functions must have the '@jit' decorator, otherwise the code will be much slower."
      ],
      "metadata": {}
    },
    {
      "cell_type": "code",
      "source": [
        "import numpy as np\n",
        "from numba import jit \n",
        "\n",
        "@jit('void(f4[:])', nopython=True)\n",
        "def bubblesort(X):\n",
        "    N = len(X)\n",
        "    for end in range(N, 1, -1):\n",
        "        for i in range(end - 1):\n",
        "            cur = X[i]\n",
        "            if cur > X[i + 1]:\n",
        "                tmp = X[i]\n",
        "                X[i] = X[i + 1]\n",
        "                X[i + 1] = tmp\n",
        "                \n",
        "@jit('void(f4[:])', nopython=True)\n",
        "def do_sort(sorted):\n",
        "    bubblesort(sorted)\n",
        "    \n",
        "original = np.arange(.0, 10., .01, dtype='f4')\n",
        "shuffled = original.copy()\n",
        "np.random.shuffle(shuffled)\n",
        "sorted_copy = shuffled.copy()\n",
        "%timeit sorted_copy[:]=shuffled[:]; do_sort(sorted_copy)"
      ],
      "outputs": [
        {
          "output_type": "stream",
          "name": "stdout",
          "text": [
            "1.54 ms ± 74 µs per loop (mean ± std. dev. of 7 runs, 1000 loops each)\n"
          ]
        }
      ],
      "execution_count": 21,
      "metadata": {
        "collapsed": false,
        "outputHidden": false,
        "inputHidden": false
      }
    },
    {
      "cell_type": "markdown",
      "source": [
        "### Numpy Universal Functions\n",
        "\n",
        "Numba's '@vectorize' decorator allows Python functions taking scalar input arguments to be used as NumPy 'ufunc's. Creating a traditional NumPy 'ufunc' is not the most straightforward process and involves writing some C code. Numba makes this easy. Using the '@vectorize' decorator, Numba can compile a pure Python function into a 'ufunc' that operates over NumPy arrays as fast as traditional 'ufunc's written in C.\n",
        "\n",
        "***Universal Functions (ufunc)***\n",
        "A universal function (or 'ufunc' for short) is a function that operates on NumPy arrays (ndarrays) in an element-by-element fashion. They support array broadcasting, type casting, and several other standard features.\n",
        "\n",
        "A 'ufunc' is a \"vectorized\" wrapper for a function that takes a fixed number of scalar inputs and produces a fixed number of scalar outputs.\n",
        "Many of NumPy's"
      ],
      "metadata": {
        "collapsed": false,
        "outputHidden": false,
        "inputHidden": false
      }
    }
  ],
  "metadata": {
    "kernelspec": {
      "name": "python3",
      "language": "python",
      "display_name": "Python 3"
    },
    "kernel_info": {
      "name": "python3"
    },
    "language_info": {
      "name": "python",
      "version": "3.6.2",
      "mimetype": "text/x-python",
      "codemirror_mode": {
        "name": "ipython",
        "version": 3
      },
      "pygments_lexer": "ipython3",
      "nbconvert_exporter": "python",
      "file_extension": ".py"
    },
    "nteract": {
      "version": "0.2.0"
    }
  },
  "nbformat": 4,
  "nbformat_minor": 4
}