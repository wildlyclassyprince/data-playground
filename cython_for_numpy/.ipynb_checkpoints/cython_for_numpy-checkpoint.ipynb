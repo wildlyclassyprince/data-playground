{
 "cells": [
  {
   "cell_type": "markdown",
   "metadata": {},
   "source": [
    "## Cython for Numpy\n",
    "\n",
    "Numpy can be used for Cython in exactly the same manner as in regular Python, however Cython also has anumber of features that support fast access to NumPy arrays that can result in significant performance gains.\n",
    "\n",
    "The code below performs 2D discrete convolution of an image with a filter."
   ]
  },
  {
   "cell_type": "code",
   "execution_count": 1,
   "metadata": {
    "inputHidden": false,
    "outputHidden": false
   },
   "outputs": [],
   "source": [
    "import numpy as np\n",
    "\n",
    "def naive_convolve(f, g):\n",
    "    # f is an image and is indexed by (v, w)\n",
    "    # g is a filter kernel and is indexed by (s, t), it needs odd dimensions\n",
    "    # h is the output image and is indexed by (x, y), it is not cropped \n",
    "    if (g.shape[0] % 2 != 1) or (g.shape[1] % 2 != 1):\n",
    "        raise ValueError('Only odd dimensions on filter supported.')\n",
    "    # smid and tmid are number of pixels between the center pixel and the edge, that is,\n",
    "    # for a 5x5 filter, they will be 2.\n",
    "    #\n",
    "    # The output size is calculated by adding smid, tmid to each side of the dimensions of the input image.\n",
    "    vmax = f.shape[0]\n",
    "    wmax = f.shape[1]\n",
    "    smax = g.shape[0]\n",
    "    tmax = g.shape[1]\n",
    "    smid = smax // 2\n",
    "    tmid = tmax // 2\n",
    "    xmax = vmax + 2 * smid\n",
    "    ymax = wmax + 2 * tmid\n",
    "    # Allocate result image.\n",
    "    h = np.zeros([xmax, ymax], dtype=f.dtype)\n",
    "    # Perform convolution.\n",
    "    for x in range(xmax):\n",
    "        for y in range(ymax):\n",
    "            # Calculate pixel value for h at (x, y).\n",
    "            # Sum one component for each pixel (s, t) of the filter g.\n",
    "            s_from = max(smid - x, -smid)\n",
    "            s_to = min((xmax - x) - smid, smid + 1)\n",
    "            t_from = max(tmid - y, -tmid)\n",
    "            t_to = min((ymax - y) - tmid, tmid + 1)\n",
    "            value = 0\n",
    "            for s in range(s_from, s_to):\n",
    "                for t in range(t_from, t_to):\n",
    "                    v = x - smid + s\n",
    "                    w = y - tmid + t\n",
    "                    value += g[smid - s, tmid - t] * f[v, w]\n",
    "            h[x, y] = value \n",
    "    return h"
   ]
  },
  {
   "cell_type": "code",
   "execution_count": 2,
   "metadata": {
    "inputHidden": false,
    "outputHidden": false
   },
   "outputs": [
    {
     "name": "stdout",
     "output_type": "stream",
     "text": [
      "18.9 µs ± 446 ns per loop (mean ± std. dev. of 7 runs, 100000 loops each)\n"
     ]
    }
   ],
   "source": [
    "%timeit naive_convolve(np.array([[1, 1, 1]], dtype=np.int), np.array([[1], [2], [1]], dtype=np.int))"
   ]
  },
  {
   "cell_type": "markdown",
   "metadata": {},
   "source": [
    "We can simply compile this code using Cython nad expect some performance improvements. Let's copy the 'naive_convolve' function from the cell above, then rename the function 'convolve1' and compile it in Cython."
   ]
  },
  {
   "cell_type": "code",
   "execution_count": 3,
   "metadata": {
    "inputHidden": false,
    "outputHidden": false
   },
   "outputs": [],
   "source": [
    "%load_ext Cython"
   ]
  },
  {
   "cell_type": "code",
   "execution_count": 4,
   "metadata": {
    "inputHidden": false,
    "outputHidden": false
   },
   "outputs": [],
   "source": [
    "%%cython\n",
    "\n",
    "import numpy as np\n",
    "\n",
    "def convolve1(f, g):\n",
    "    # f is an image and is indexed by (v, w)\n",
    "    # g is a filter kernel and is indexed by (s, t), it needs odd dimensions\n",
    "    # h is the output image and is indexed by (x, y), it is not cropped \n",
    "    if (g.shape[0] % 2 != 1) or (g.shape[1] % 2 != 1):\n",
    "        raise ValueError('Only odd dimensions on filter supported.')\n",
    "    # smid and tmid are number of pixels between the center pixel and the edge, that is,\n",
    "    # for a 5x5 filter, they will be 2.\n",
    "    #\n",
    "    # The output size is calculated by adding smid, tmid to each side of the dimensions of the input image.\n",
    "    vmax = f.shape[0]\n",
    "    wmax = f.shape[1]\n",
    "    smax = g.shape[0]\n",
    "    tmax = g.shape[1]\n",
    "    smid = smax // 2\n",
    "    tmid = tmax // 2\n",
    "    xmax = vmax + 2 * smid\n",
    "    ymax = wmax + 2 * tmid\n",
    "    # Allocate result image.\n",
    "    h = np.zeros([xmax, ymax], dtype=f.dtype)\n",
    "    # Perform convolution.\n",
    "    for x in range(xmax):\n",
    "        for y in range(ymax):\n",
    "            # Calculate pixel value for h at (x, y).\n",
    "            # Sum one component for each pixel (s, t) of the filter g.\n",
    "            s_from = max(smid - x, -smid)\n",
    "            s_to = min((xmax - x) - smid, smid + 1)\n",
    "            t_from = max(tmid - y, -tmid)\n",
    "            t_to = min((ymax - y) - tmid, tmid + 1)\n",
    "            value = 0\n",
    "            for s in range(s_from, s_to):\n",
    "                for t in range(t_from, t_to):\n",
    "                    v = x - smid + s\n",
    "                    w = y - tmid + t\n",
    "                    value += g[smid - s, tmid - t] * f[v, w]\n",
    "            h[x, y] = value \n",
    "    return h"
   ]
  },
  {
   "cell_type": "markdown",
   "metadata": {},
   "source": [
    "Running some tests to make sure that the functions produce the same results:"
   ]
  },
  {
   "cell_type": "code",
   "execution_count": 5,
   "metadata": {
    "inputHidden": false,
    "outputHidden": false
   },
   "outputs": [],
   "source": [
    "from nose.tools import assert_equal \n",
    "res1 = naive_convolve(np.array([[1, 1, 1]], dtype=np.int), np.array([[1], [2], [3]], dtype=np.int))\n",
    "res2 = convolve1(np.array([[1, 1, 1]], dtype=np.int), np.array([[1], [2], [3]], dtype=np.int))\n",
    "assert_equal((res1==res2).all(), True)"
   ]
  },
  {
   "cell_type": "code",
   "execution_count": 6,
   "metadata": {
    "inputHidden": false,
    "outputHidden": false
   },
   "outputs": [
    {
     "name": "stdout",
     "output_type": "stream",
     "text": [
      "11.9 µs ± 192 ns per loop (mean ± std. dev. of 7 runs, 100000 loops each)\n"
     ]
    }
   ],
   "source": [
    "%timeit convolve1(np.array([[1, 1, 1]], dtype=np.int), np.array([[1],[2],[1]], dtype=np.int))"
   ]
  },
  {
   "cell_type": "markdown",
   "metadata": {},
   "source": [
    "So we get a speedup of 35/19.1 ~ 1.8 times, almost double. Not bad.\n",
    "\n",
    "The next step is to add Cython data types to the code. This code will no longer be compatible with Python, so the consequences of doing this must be carefully considered. The most important change is to use variables that have the same data type as the elements in the NumPy arrays.\n",
    "\n",
    "For normal variables, this simply means adding a line like 'cdef type variable' (where 'type' is the appropriate C type) for each variable in the program. Since it is alos possible to initialize the variable at hte same time it is declared, we can simplify the code by declaring it the first time it is used. In the 'convolve1' case above, we know that the indices of the NumPy arrays are integers.\n",
    "\n",
    "It is important to type $all$ variables. Cython does not give any warnings if we do not, however the code will run much slower.\n",
    "\n",
    "The NumPy arrays themselves also need to have type information added, and they correspond to the 'np.ndarray' type. The 'f' and 'g' arrays appear as parameters to the function, so the type can be added as part of the function declaration. The 'h' array is initialized to zeros in the code so it requires a 'cdef np.ndarray' to be added as follows:\n",
    "\n",
    "> cdef np.int_t value\n",
    "\n"
   ]
  },
  {
   "cell_type": "markdown",
   "metadata": {},
   "source": [
    "### Challenge\n",
    "\n",
    "The code below will not compile as parts have been commented out. Copy this code into a Jupyter cell, or into IPython and rename the function convolve2. Read each of the commented sections for a description of how the data types are added, then uncomment the line to enable to statement. When you have completed this for the whole function, run the code to ensure that it compiles correctly."
   ]
  },
  {
   "cell_type": "code",
   "execution_count": 7,
   "metadata": {
    "inputHidden": false,
    "outputHidden": false
   },
   "outputs": [],
   "source": [
    "%%cython \n",
    "\n",
    "import numpy as np \n",
    "# \"cimport\" is used to import special compile-time information \n",
    "# about the numpy module (this is stored in a file numpy.pxd\n",
    "# which is currently part of the Cython distribution).\n",
    "cimport numpy as np \n",
    "\n",
    "# \"def\" can type its arguments but not have a return type. The \n",
    "# type of the arguments for \"def\" function is checked at run-time\n",
    "# when entering the function.\n",
    "#\n",
    "# The arrays f, g and h are typed as \"np.ndarray\" instances. The \n",
    "# only effect this has is to: \n",
    "#   a) insert checks that the function arguments really are NumPy arrays\n",
    "#   b) make some attributes access like f.shape[0] much more efficient.\n",
    "# (In this example this doesn't matter though.)\n",
    "def convolve2(np.ndarray f, np.ndarray g):\n",
    "    if (g.shape[0] % 2 != 1) or (g.shape[1] % 2 != 1):\n",
    "        raise ValueError(\"Only odd dimensions on filter supported.\")\n",
    "    # The \"cdef\" keyword is also used within functions to type variables. It\n",
    "    # can only be used at the top indentation level (there are non-trivial\n",
    "    # problems allowing them in other places, though we'd love to see\n",
    "    # good and well thought out proposals for it).\n",
    "    #\n",
    "    # For the indices, the \"int\" type is used. This corresponds to a C int,\n",
    "    # other C types (like \"unsigned int\") could have been used instead.\n",
    "    cdef int vmax = f.shape[0]\n",
    "    cdef int wmax = f.shape[1]\n",
    "    cdef int smax = g.shape[0]\n",
    "    cdef int tmax = g.shape[1]\n",
    "    cdef int smid = smax // 2\n",
    "    cdef int tmid = tmax // 2\n",
    "    cdef int xmax = vmax + 2 * smid \n",
    "    cdef int ymax = wmax + 2 * tmid \n",
    "    cdef np.ndarray h = np.zeros([xmax, ymax], dtype=np.int)\n",
    "    cdef int x, y, s, t, v, w \n",
    "    \n",
    "    # It is very important to type ALL your variables. You do not get any\n",
    "    # warnings if not, only much slower code (they are implicitly types as\n",
    "    # Python objects).\n",
    "    cdef int s_from, s_to, t_from, t_to \n",
    "    \n",
    "    # For the value variable, we want to use the same data type as is \n",
    "    # stored in the array, so we use \"np.int_t\".\n",
    "    # NB: An important side-effect of this is that if \"value\" overflows its\n",
    "    # datatype size, it will simply wrap around like in C, rather than raise\n",
    "    # an error like in Python.\n",
    "    cdef np.int_t value \n",
    "    \n",
    "    for x in range(xmax):\n",
    "        for y in range(ymax):\n",
    "            s_from = max(smid - x, -smid)\n",
    "            s_to = min((xmax - x) - smid, smid + 1)\n",
    "            t_from = max(tmid - y, -tmid)\n",
    "            t_to = min((ymax - y) - tmid, tmid + 1)\n",
    "            value = 0\n",
    "            for s in range(s_from, s_to):\n",
    "                for t in range(t_from, t_to):\n",
    "                    v = x - smid + s \n",
    "                    w = y - tmid + t \n",
    "                    value += g[smid - s, tmid - t] * f[v, w]\n",
    "            h[x, y] = value\n",
    "    return h"
   ]
  },
  {
   "cell_type": "code",
   "execution_count": 8,
   "metadata": {
    "inputHidden": false,
    "outputHidden": false
   },
   "outputs": [],
   "source": [
    "res1 = naive_convolve(np.array([[1, 1, 1]], dtype=np.int), np.array([[1],[2],[1]], dtype=np.int))\n",
    "res2 = convolve2(np.array([[1, 1, 1]], dtype=np.int), np.array([[1],[2],[1]], dtype=np.int))\n",
    "assert_equal((res1==res2).all(), True)"
   ]
  },
  {
   "cell_type": "code",
   "execution_count": 9,
   "metadata": {
    "inputHidden": false,
    "outputHidden": false
   },
   "outputs": [
    {
     "name": "stdout",
     "output_type": "stream",
     "text": [
      "6.82 µs ± 101 ns per loop (mean ± std. dev. of 7 runs, 100000 loops each)\n"
     ]
    }
   ],
   "source": [
    "%timeit convolve2(np.array([[1, 1, 1]], dtype=np.int), np.array([[1], [2], [1]], dtype=np.int))"
   ]
  },
  {
   "cell_type": "markdown",
   "metadata": {},
   "source": [
    "### Efficient Indexing\n",
    "\n",
    "This code is still not as efficient as it could be. Array lookups and assignments, like those using the []-operator, still use full Python operations. It would be much more efficient if we could access the data buffer directly at C speed.\n",
    "\n",
    "It is possible to do this by specifying the type of $contents$ of the 'ndarray' objects. We do this with a special \"buffer\" syntax whic must be told the datatype (first argument) and number of dimensions (\"ndim\" keyword-only argument, if not provided then one-dimensional is assumed)."
   ]
  },
  {
   "cell_type": "code",
   "execution_count": 10,
   "metadata": {
    "inputHidden": false,
    "outputHidden": false
   },
   "outputs": [],
   "source": [
    "%%cython \n",
    "\n",
    "import numpy as np \n",
    "# \"cimport\" is used to import special compile-time information \n",
    "# about the numpy module (this is stored in a file numpy.pxd\n",
    "# which is currently part of the Cython distribution).\n",
    "cimport numpy as np \n",
    "\n",
    "# \"def\" can type its arguments but not ahve a return type. The \n",
    "# type of the arguments for \"def\" function is checked at run-time\n",
    "# when entering the function.\n",
    "#\n",
    "# The arrays f, g and h are typed as \"np.ndarray\" instances. The \n",
    "# only effect this has is to a) insert checks that the function\n",
    "# arguments really are NumPy arrays, and b) make some attributes\n",
    "# access like f.shape[0] much more efficient. (In this example\n",
    "# this doesn't matter though.)\n",
    "def convolve3(np.ndarray[np.int_t, ndim=2] f, np.ndarray[np.int_t, ndim=2] g):\n",
    "    if (g.shape[0] % 2 != 1) or (g.shape[1] % 2 != 1):\n",
    "        raise ValueError(\"Only odd dimensions on filter supported.\")\n",
    "    # The \"cdef\" keyword is also used within functions to type variables. It\n",
    "    # can only be used at the top indentation level (there are non-trivial\n",
    "    # problems with allowing them in other places, though we'd love to see\n",
    "    # good and though out proposals for it).\n",
    "    #\n",
    "    # For the indices, the \"int\" type is used. This corresponds to a C int,\n",
    "    # other C types (like \"unsigned int\") could have been used instead.\n",
    "    cdef int vmax = f.shape[0]\n",
    "    cdef int wmax = f.shape[1]\n",
    "    cdef int smax = g.shape[0]\n",
    "    cdef int tmax = g.shape[1]\n",
    "    cdef int smid = smax // 2\n",
    "    cdef int tmid = tmax // 2\n",
    "    cdef int xmax = vmax + 2 * smid \n",
    "    cdef int ymax = wmax + 2 * tmid \n",
    "    cdef np.ndarray[np.int_t, ndim=2] h = np.zeros([xmax, ymax], dtype=np.int)\n",
    "    cdef int x, y, s, t, v, w \n",
    "    \n",
    "    # It is very important to type ALL your variables. You do not get any\n",
    "    # warnings if not, only much slower code (they are implicitly types as\n",
    "    # Python objects).\n",
    "    cdef int s_from, s_to, t_from, t_to \n",
    "    \n",
    "    # For the value variable, we want to use the same data type as is \n",
    "    # stored in the array, so we use \"np.int_t\".\n",
    "    # NB: An important side-effect of this is that if \"value\" overflows its\n",
    "    # datatype size, it will simply wrap around like in C, rather than raise\n",
    "    # an error like in Python.\n",
    "    cdef np.int_t value \n",
    "    \n",
    "    for x in range(xmax):\n",
    "        for y in range(ymax):\n",
    "            s_from = max(smid - x, -smid)\n",
    "            s_to = min((xmax - x) - smid, smid + 1)\n",
    "            t_from = max(tmid - y, -tmid)\n",
    "            t_to = min((ymax - y) - tmid, tmid + 1)\n",
    "            value = 0\n",
    "            for s in range(s_from, s_to):\n",
    "                for t in range(t_from, t_to):\n",
    "                    v = x - smid + s \n",
    "                    w = y - tmid + t \n",
    "                    value += g[smid - s, tmid - t] * f[v, w]\n",
    "            h[x, y] = value\n",
    "    return h"
   ]
  },
  {
   "cell_type": "code",
   "execution_count": 11,
   "metadata": {
    "inputHidden": false,
    "outputHidden": false
   },
   "outputs": [],
   "source": [
    "res1 = naive_convolve(np.array([[1, 1, 1]], dtype=np.int), np.array([[1],[2],[1]], dtype=np.int))\n",
    "res2 = convolve3(np.array([[1, 1, 1]], dtype=np.int), np.array([[1],[2],[1]], dtype=np.int))\n",
    "assert_equal((res1==res2).all(), True)"
   ]
  },
  {
   "cell_type": "code",
   "execution_count": 12,
   "metadata": {
    "inputHidden": false,
    "outputHidden": false
   },
   "outputs": [
    {
     "name": "stdout",
     "output_type": "stream",
     "text": [
      "4.42 µs ± 57 ns per loop (mean ± std. dev. of 7 runs, 100000 loops each)\n"
     ]
    }
   ],
   "source": [
    "%timeit convolve3(np.array([[1, 1, 1]], dtype=np.int), np.array([[1], [2], [1]], dtype=np.int))"
   ]
  },
  {
   "cell_type": "markdown",
   "metadata": {},
   "source": [
    "### More Indexing Improvements\n",
    "\n",
    "The NumPy array lookups are still slowed down by two other factors:\n",
    " - Bounds checking is performed.\n",
    " - Negative indices are checked for and handled correctly.\n",
    "If we are certain that code will always access within the array bounds, and that it doesn't use negative indices, then it is possible to obtain some extra performance by avoiding these checks.\n",
    "\n",
    "$Note\\ however\\ that\\ this\\ comes\\ at\\ the\\ cost\\ of\\ safety.\\ If\\ the\\ code\\ does\\ not\\ behave\\ exactly\\ as\\ you\\ expect,\\ it\\ could\\ crash\\ the\\ program\\ or\\ corrupt\\ data.$\n",
    "\n",
    "Bounds checking can be disabled by adding a decorator to the function as follows:"
   ]
  },
  {
   "cell_type": "code",
   "execution_count": 13,
   "metadata": {
    "inputHidden": false,
    "outputHidden": false
   },
   "outputs": [],
   "source": [
    "%%cython \n",
    "\n",
    "import numpy as np \n",
    "\n",
    "cimport numpy as np \n",
    "cimport cython \n",
    "\n",
    "@cython.boundscheck(False) # Turn off bounds-checking for entire function.\n",
    "def convolve4(np.ndarray[np.int_t, ndim=2] f, np.ndarray[np.int_t, ndim=2] g):\n",
    "    if (g.shape[0] % 2 != 1) or (g.shape[1] % 2 != 1):\n",
    "        raise ValueError(\"Only odd dimensions on filter supported.\")\n",
    "    cdef int vmax = f.shape[0]\n",
    "    cdef int wmax = f.shape[1]\n",
    "    cdef int smax = g.shape[0]\n",
    "    cdef int tmax = g.shape[1]\n",
    "    cdef int smid = smax // 2\n",
    "    cdef int tmid = tmax // 2\n",
    "    cdef int xmax = vmax + 2 * smid \n",
    "    cdef int ymax = wmax + 2 * tmid \n",
    "    cdef np.ndarray[np.int_t, ndim=2] h = np.zeros([xmax, ymax], dtype=np.int)\n",
    "    cdef int x, y, s, t, v, w \n",
    "    cdef int s_from, s_to, t_from, t_to \n",
    "    cdef np.int_t value \n",
    "    \n",
    "    for x in range(xmax):\n",
    "        for y in range(ymax):\n",
    "            s_from = max(smid - x, -smid)\n",
    "            s_to = min((xmax - x) - smid, smid + 1)\n",
    "            t_from = max(tmid - y, -tmid)\n",
    "            t_to = min((ymax - y) - tmid, tmid + 1)\n",
    "            value = 0\n",
    "            for s in range(s_from, s_to):\n",
    "                for t in range(t_from, t_to):\n",
    "                    v = x - smid + s \n",
    "                    w = y - tmid + t \n",
    "                    value += g[smid - s, tmid - t] * f[v, w]\n",
    "            h[x, y] = value\n",
    "    return h"
   ]
  },
  {
   "cell_type": "code",
   "execution_count": 14,
   "metadata": {
    "inputHidden": false,
    "outputHidden": false
   },
   "outputs": [],
   "source": [
    "res1 = naive_convolve(np.array([[1, 1, 1]], dtype=np.int), np.array([[1],[2],[1]], dtype=np.int))\n",
    "res2 = convolve4(np.array([[1, 1, 1]], dtype=np.int), np.array([[1],[2],[1]], dtype=np.int))\n",
    "assert_equal((res1==res2).all(), True)"
   ]
  },
  {
   "cell_type": "code",
   "execution_count": 15,
   "metadata": {
    "inputHidden": false,
    "outputHidden": false
   },
   "outputs": [
    {
     "name": "stdout",
     "output_type": "stream",
     "text": [
      "4.44 µs ± 55.1 ns per loop (mean ± std. dev. of 7 runs, 100000 loops each)\n"
     ]
    }
   ],
   "source": [
    "%timeit convolve4(np.array([[1, 1, 1]], dtype=np.int), np.array([[1], [2], [1]], dtype=np.int))"
   ]
  },
  {
   "cell_type": "markdown",
   "metadata": {},
   "source": [
    "Now bounds checking is not performed. It is possible to switch bounds-checking mode in many ways, see Compiler directives for more information.\n",
    "\n",
    "Negative indices are dealth with by forcing the indexes to be positive using teh unsigned integer type of the index variables and casting values to this type. If negative values are cast, then this will create a very large positive value instead and it may result in an attempt to access out-of-bounds values. Casting is done with a special <>-syntax. The code below shows how to change the function to use either unsigned ints or casting an appropriate:"
   ]
  },
  {
   "cell_type": "code",
   "execution_count": null,
   "metadata": {
    "inputHidden": false,
    "outputHidden": false
   },
   "outputs": [],
   "source": [
    "%%cython \n",
    "\n",
    "import numpy as np \n",
    "\n",
    "cimport numpy as np \n",
    "cimport cython \n",
    "\n",
    "@cython.boundscheck(False) # Turn off bounds-checking for entire function.\n",
    "def convolve5(np.ndarray[np.int_t, ndim=2] f, np.ndarray[np.int_t, ndim=2] g):\n",
    "    if (g.shape[0] % 2 != 1) or (g.shape[1] % 2 != 1):\n",
    "        raise ValueError(\"Only odd dimensions on filter supported.\")\n",
    "    cdef int vmax = f.shape[0]\n",
    "    cdef int wmax = f.shape[1]\n",
    "    cdef int smax = g.shape[0]\n",
    "    cdef int tmax = g.shape[1]\n",
    "    cdef int smid = smax // 2\n",
    "    cdef int tmid = tmax // 2\n",
    "    cdef int xmax = vmax + 2 * smid \n",
    "    cdef int ymax = wmax + 2 * tmid \n",
    "    cdef np.ndarray[np.int_t, ndim=2] h = np.zeros([xmax, ymax], dtype=np.int)\n",
    "    cdef int s, t\n",
    "    cdef unsigned int x, y, v, w \n",
    "    cdef int s_from, s_to, t_from, t_to \n",
    "    cdef np.int_t value \n",
    "    \n",
    "    for x in range(xmax):\n",
    "        for y in range(ymax):\n",
    "            s_from = max(smid - x, -smid)\n",
    "            s_to = min((xmax - x) - smid, smid + 1)\n",
    "            t_from = max(tmid - y, -tmid)\n",
    "            t_to = min((ymax - y) - tmid, tmid + 1)\n",
    "            value = 0\n",
    "            for s in range(s_from, s_to):\n",
    "                for t in range(t_from, t_to):\n",
    "                    v = <unsigned int>(x - smid + s) \n",
    "                    w = <unsigned int>(y - tmid + t) \n",
    "                    value += g[<unsigned int>(smid - s), <unsigned int>(tmid - t)] * f[v, w]\n",
    "            h[x, y] = value\n",
    "    return h"
   ]
  },
  {
   "cell_type": "code",
   "execution_count": null,
   "metadata": {
    "inputHidden": false,
    "outputHidden": false
   },
   "outputs": [],
   "source": [
    "res1 = naive_convolve(np.array([[1, 1, 1]], dtype=np.int), np.array([[1],[2],[1]], dtype=np.int))\n",
    "res2 = convolve5(np.array([[1, 1, 1]], dtype=np.int), np.array([[1],[2],[1]], dtype=np.int))\n",
    "assert_equal((res1==res2).all(), True)"
   ]
  },
  {
   "cell_type": "code",
   "execution_count": null,
   "metadata": {
    "inputHidden": false,
    "outputHidden": false
   },
   "outputs": [],
   "source": [
    "%timeit convolve5(np.array([[1, 1, 1]], dtype=np.int), np.array([[1], [2], [1]], dtype=np.int))"
   ]
  }
 ],
 "metadata": {
  "kernel_info": {
   "name": "python3"
  },
  "kernelspec": {
   "display_name": "Python 3",
   "language": "python",
   "name": "python3"
  },
  "language_info": {
   "codemirror_mode": {
    "name": "ipython",
    "version": 3
   },
   "file_extension": ".py",
   "mimetype": "text/x-python",
   "name": "python",
   "nbconvert_exporter": "python",
   "pygments_lexer": "ipython3",
   "version": "3.7.0"
  },
  "nteract": {
   "version": "0.2.0"
  },
  "toc": {
   "base_numbering": 1,
   "nav_menu": {},
   "number_sections": false,
   "sideBar": false,
   "skip_h1_title": false,
   "title_cell": "Table of Contents",
   "title_sidebar": "Contents",
   "toc_cell": false,
   "toc_position": {},
   "toc_section_display": false,
   "toc_window_display": false
  }
 },
 "nbformat": 4,
 "nbformat_minor": 4
}
