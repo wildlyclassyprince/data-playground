{
 "cells": [
  {
   "cell_type": "markdown",
   "metadata": {},
   "source": [
    "# Pure Python vs. NumPy vs. TensorFlow Performance Comparison\n",
    "\n",
    "## [NumPy](http://numpy.org)\n",
    "NumPy provides support for large multidimensinal arrays and matrices along with a collection of mathematical functions to operate on these elements. The project relies on well-known packages implemented in other languages (like Fotran) to perform efficient computations, bringing the user both the expressiveness of Python and a performance similar to MATLAB or Fotran.\n",
    "\n",
    "## [TensorFlow](https://tensorflow.org)\n",
    "Tensorflow is an open-source library for numerical computation originally developed by researchers and engineers working at the Google Brain team. The main focus of the library is to provide an easy-to-use API to implement practical machine learning algorithms and deploy them to run on CPUs, GPUs, or a cluster.\n",
    "\n",
    "- **But how do these schemes compare?**\n",
    "\n",
    "- **How much faster does the application run when implemented with NumPy instead of pure Python?**\n",
    "\n",
    "- **What about Tensorflow?**"
   ]
  },
  {
   "cell_type": "code",
   "execution_count": null,
   "metadata": {},
   "outputs": [],
   "source": []
  }
 ],
 "metadata": {
  "kernelspec": {
   "display_name": "Python 3",
   "language": "python",
   "name": "python3"
  },
  "language_info": {
   "codemirror_mode": {
    "name": "ipython",
    "version": 3
   },
   "file_extension": ".py",
   "mimetype": "text/x-python",
   "name": "python",
   "nbconvert_exporter": "python",
   "pygments_lexer": "ipython3",
   "version": "3.6.5"
  }
 },
 "nbformat": 4,
 "nbformat_minor": 2
}
