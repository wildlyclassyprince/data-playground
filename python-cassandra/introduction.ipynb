{
 "cells": [
  {
   "cell_type": "markdown",
   "metadata": {},
   "source": [
    "# Working with Cassandra using Python\n",
    "\n",
    "***\n",
    "\n",
    "## Intro\n",
    "\n",
    "Cassandra is an open source NoSQL database licenced with the Apache Licence. It's main focus is on providing flexibility, scalability and performance. Unlike it's peers, Cassandra can scale horizontally and dynamically by adding more servers, without the need to re-shard or reboot. Cassandra seeks to avoid vertical scalability limitations of any sort:\n",
    "> 1. there are no dedicated name nodes (all cluster nodes can serve as such);\n",
    "> 2. no practical architectural limitations on data sizes, row/column counts etc.\n",
    "\n",
    "A single global Cassandra cluster can simultaneously service applications and asynchronously replicate data across multiple geographic locations through a customizable replication factor and special support to determine which cluster nodes to designate as replicas. This makes it well suited for cross-datacenter and cross-regional deployment with no single-points-of-failure.\n",
    "\n",
    "***\n",
    "\n",
    "#### Installation\n",
    "\n",
    "To install Cassandra on Ubuntu, we will need to first update our packages:\n",
    "\n",
    "```bash\n",
    "sudo apt-get update\n",
    "sudo apt-get upgrade\n",
    "```\n",
    "\n",
    "Then install Java:\n",
    "\n",
    "```bash\n",
    "sudo apt-get install default-jdk\n",
    "```\n",
    "\n",
    "We can now install Apache Cassandra:\n",
    "```bash\n",
    "echo \"deb http://www.apache.org/dist/cassandra/debian 311x main\" | sudo tee -a /etc/apt/sources.list.d/cassandra.sources.list\n",
    "\n",
    "# Adds Cassandra repository keys\n",
    "curl https://www.apache.org/dist/cassandra/KEYS | sudo apt-key add -\n",
    "sudo apt-key adv --keyserver pool.sks-keyservers.net --recv-key A278B781FE4B2BDA\n",
    "\n",
    "# Updating package index\n",
    "sudo apt-get update\n",
    "\n",
    "# Installing Cassandra\n",
    "sudo apt-get install cassandra\n",
    "```\n",
    "\n",
    "To start the service:\n",
    "\n",
    "```bash\n",
    "sudo service cassandra start\n",
    "```\n",
    "\n",
    "To stop the service:\n",
    "\n",
    "```bash\n",
    "sudo service cassandra stop\n",
    "```\n",
    "\n",
    "To check the status of the service:\n",
    "\n",
    "```bash\n",
    "sudo service cassandra status\n",
    "```\n",
    "\n",
    "\n",
    "***\n",
    "\n",
    "#### Connecting to Cassandra\n",
    "\n",
    "To begin, we need to setup an instance of `Cluster`. As the name suggests, we will typically have one instance of `Cluster` for each Cassandra cluster we want to interact with."
   ]
  },
  {
   "cell_type": "code",
   "execution_count": null,
   "metadata": {},
   "outputs": [],
   "source": [
    "# Instantiating a connection\n",
    "from cassandra.cluster import Cluster\n",
    "cluster = Cluster()"
   ]
  },
  {
   "cell_type": "markdown",
   "metadata": {},
   "source": [
    "This attempts to connect to Cassandra on our local machine. Instantiating a `Cluster` does not actually connect to any node.\n",
    "\n",
    "To specify a list of nodes for our cluster:\n",
    "\n",
    "```python\n",
    "from cassandra.cluster import Cluster\n",
    "cluster = Cluster(['192.168.0.1', '192.168.0.2'])\n",
    "```\n",
    "\n",
    "The set of IP addresses passed to `Cluster` are initial contact points. After the driver connects one of these nodes, it will automatically discover the rest of the nodes in the cluster and connect to them. So, there is no need to list every node in our cluster.\n",
    "\n",
    "To establish a connection and begin making queries, we need a `Session`:"
   ]
  },
  {
   "cell_type": "code",
   "execution_count": null,
   "metadata": {},
   "outputs": [],
   "source": [
    "# Creating a session\n",
    "session = cluster.connect()"
   ]
  },
  {
   "cell_type": "markdown",
   "metadata": {},
   "source": [
    "#### References\n",
    "\n",
    "[ 1 ] How to install Apache Cassandra on [Ubuntu](https://www.rosehosting.com/blog/how-to-install-apache-cassandra-on-ubuntu-16-04/).\n",
    "\n",
    "[ 2 ] Netflix [blog](https://medium.com/netflix-techblog/nosql-at-netflix-e937b660b4c) scaling their highly distributed infrastructure."
   ]
  }
 ],
 "metadata": {
  "kernelspec": {
   "display_name": "Python 3",
   "language": "python",
   "name": "python3"
  },
  "language_info": {
   "codemirror_mode": {
    "name": "ipython",
    "version": 3
   },
   "file_extension": ".py",
   "mimetype": "text/x-python",
   "name": "python",
   "nbconvert_exporter": "python",
   "pygments_lexer": "ipython3",
   "version": "3.7.0"
  }
 },
 "nbformat": 4,
 "nbformat_minor": 2
}
